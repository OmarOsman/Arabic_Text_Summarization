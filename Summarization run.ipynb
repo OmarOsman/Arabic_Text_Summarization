{
 "cells": [
  {
   "cell_type": "code",
   "execution_count": 19,
   "metadata": {
    "collapsed": true
   },
   "outputs": [
    {
     "name": "stdout",
     "output_type": "stream",
     "text": [
      "Collecting git+https://github.com/LIAAD/yake\n",
      "  Cloning https://github.com/LIAAD/yake to c:\\users\\omar\\appdata\\local\\temp\\pip-req-build-kfzdloja\n",
      "Collecting tabulate (from yake==0.4.2)\n",
      "  Downloading https://files.pythonhosted.org/packages/c2/fd/202954b3f0eb896c53b7b6f07390851b1fd2ca84aa95880d7ae4f434c4ac/tabulate-0.8.3.tar.gz (46kB)\n",
      "Requirement already satisfied: click>=6.0 in e:\\anaconda\\envs\\nopytorch\\lib\\site-packages (from yake==0.4.2) (6.7)\n",
      "Requirement already satisfied: numpy in e:\\anaconda\\envs\\nopytorch\\lib\\site-packages (from yake==0.4.2) (1.17.0)\n",
      "Collecting segtok (from yake==0.4.2)\n",
      "  Downloading https://files.pythonhosted.org/packages/1d/59/6ed78856ab99d2da04084b59e7da797972baa0efecb71546b16d48e49d9b/segtok-1.5.7.tar.gz\n",
      "Requirement already satisfied: networkx in e:\\anaconda\\envs\\nopytorch\\lib\\site-packages (from yake==0.4.2) (2.1)\n",
      "Collecting jellyfish (from yake==0.4.2)\n",
      "  Downloading https://files.pythonhosted.org/packages/3f/80/bcacc7affb47be7279d7d35225e1a932416ed051b315a7f9df20acf04cbe/jellyfish-0.7.2.tar.gz (133kB)\n",
      "Requirement already satisfied: regex in e:\\anaconda\\envs\\nopytorch\\lib\\site-packages (from segtok->yake==0.4.2) (2017.4.5)\n",
      "Requirement already satisfied: decorator>=4.1.0 in e:\\anaconda\\envs\\nopytorch\\lib\\site-packages (from networkx->yake==0.4.2) (4.2.1)\n",
      "Building wheels for collected packages: yake, tabulate, segtok, jellyfish\n",
      "  Running setup.py bdist_wheel for yake: started\n",
      "  Running setup.py bdist_wheel for yake: finished with status 'done'\n",
      "  Stored in directory: C:\\Users\\Omar\\AppData\\Local\\Temp\\pip-ephem-wheel-cache-5kccj6e6\\wheels\\be\\35\\27\\e4ebd54b78c1806ed8b0271ce247fcd91e2bedde35889fbc9b\n",
      "  Running setup.py bdist_wheel for tabulate: started\n",
      "  Running setup.py bdist_wheel for tabulate: finished with status 'done'\n",
      "  Stored in directory: C:\\Users\\Omar\\AppData\\Local\\pip\\Cache\\wheels\\2b\\67\\89\\414471314a2d15de625d184d8be6d38a03ae1e983dbda91e84\n",
      "  Running setup.py bdist_wheel for segtok: started\n",
      "  Running setup.py bdist_wheel for segtok: finished with status 'done'\n",
      "  Stored in directory: C:\\Users\\Omar\\AppData\\Local\\pip\\Cache\\wheels\\15\\ee\\a8\\6112173f1386d33eebedb3f73429cfa41a4c3084556bcee254\n",
      "  Running setup.py bdist_wheel for jellyfish: started\n",
      "  Running setup.py bdist_wheel for jellyfish: finished with status 'done'\n",
      "  Stored in directory: C:\\Users\\Omar\\AppData\\Local\\pip\\Cache\\wheels\\e8\\fe\\99\\d8fa8f2ef7b82a625b0b77a84d319b0b50693659823c4effb4\n",
      "Successfully built yake tabulate segtok jellyfish\n",
      "Installing collected packages: tabulate, segtok, jellyfish, yake\n",
      "Successfully installed jellyfish-0.7.2 segtok-1.5.7 tabulate-0.8.3 yake-0.4.2\n"
     ]
    },
    {
     "name": "stderr",
     "output_type": "stream",
     "text": [
      "You are using pip version 18.0, however version 19.2.3 is available.\n",
      "You should consider upgrading via the 'python -m pip install --upgrade pip' command.\n"
     ]
    }
   ],
   "source": [
    "!pip install git+https://github.com/LIAAD/yake "
   ]
  },
  {
   "cell_type": "code",
   "execution_count": 21,
   "metadata": {
    "collapsed": true
   },
   "outputs": [
    {
     "name": "stdout",
     "output_type": "stream",
     "text": [
      "Collecting Rouge\n",
      "  Downloading https://files.pythonhosted.org/packages/63/ac/b93411318529980ab7f41e59ed64ec3ffed08ead32389e29eb78585dd55d/rouge-0.3.2-py3-none-any.whl\n",
      "Installing collected packages: Rouge\n",
      "Successfully installed Rouge-0.3.2\n"
     ]
    },
    {
     "name": "stderr",
     "output_type": "stream",
     "text": [
      "You are using pip version 18.0, however version 19.2.3 is available.\n",
      "You should consider upgrading via the 'python -m pip install --upgrade pip' command.\n"
     ]
    }
   ],
   "source": [
    "!pip install Rouge"
   ]
  },
  {
   "cell_type": "code",
   "execution_count": 22,
   "metadata": {
    "collapsed": true
   },
   "outputs": [
    {
     "name": "stdout",
     "output_type": "stream",
     "text": [
      "Collecting pip\n",
      "  Using cached https://files.pythonhosted.org/packages/30/db/9e38760b32e3e7f40cce46dd5fb107b8c73840df38f0046d8e6514e675a1/pip-19.2.3-py2.py3-none-any.whl\n",
      "Installing collected packages: pip\n",
      "  Found existing installation: pip 18.0\n",
      "    Uninstalling pip-18.0:\n",
      "      Successfully uninstalled pip-18.0\n",
      "Successfully installed pip-19.2.3\n"
     ]
    }
   ],
   "source": [
    "!python -m pip install --upgrade pip"
   ]
  },
  {
   "cell_type": "code",
   "execution_count": 10,
   "metadata": {},
   "outputs": [
    {
     "data": {
      "text/plain": [
       "'[-917 -787  811 -915 -931  973  865 -936  926 -952 -712 -755  634 -847  327   12 -379 -790 -506  388  611  561  327  949 -355   -5 -326  703 -153  528 -340  108 -902  353  690 -132  871  242  707  880  123  517  -40 -852  606 -538  887  -78 -627 -596  138  463  315  452 -648 -949 -945 -674  317  303  630  824  -32  187 -817 -247  694  355  736 -887 -357  316  678 -442  -30  824  263 -415 -481  918  783 -104   39    7   69 -864 -834 -993  373  104 -945   88 -243 -724 -625  265 -602 -965 -862  111]'"
      ]
     },
     "execution_count": 10,
     "metadata": {},
     "output_type": "execute_result"
    }
   ],
   "source": [
    "s = ''.join(list(str(np.random.randint(-1000,1000,100))))\n",
    "s.replace('\\n' ,\"\")"
   ]
  },
  {
   "cell_type": "code",
   "execution_count": 1,
   "metadata": {},
   "outputs": [],
   "source": [
    "import numpy as np\n",
    "import pandas as pd\n",
    "import pdb\n",
    "import string\n",
    "import os\n",
    "import re\n",
    "\n",
    "from nltk.tokenize import word_tokenize\n",
    "from nltk.stem.isri import ISRIStemmer"
   ]
  },
  {
   "cell_type": "code",
   "execution_count": 2,
   "metadata": {},
   "outputs": [],
   "source": [
    "dubai_dir = r'data\\EASC-UTF-8\\Articles\\Topic147\\tourisms (8).txt'\n",
    "dubai = open(dubai_dir, encoding=\"utf-8\").read()\n",
    "import document\n",
    "import preprocess\n",
    "import evaluate\n",
    "pr = preprocess.Preprocess()\n",
    "original_text = dubai\n",
    "preprocessed_text = pr.get_clean_article(dubai)\n",
    "sentences = pr.get_article_sentences(preprocessed_text)\n",
    "original_sentences = pr.get_article_sentences(dubai)\n",
    "paragraphs = pr.get_cleaned_article_paragraphes(preprocessed_text)\n",
    "para_sent_list = pr.get_para_sentences(paragraphs)\n",
    "tokenized_word_sentences = pr.get_tokenized_word_sentences(sentences)"
   ]
  },
  {
   "cell_type": "code",
   "execution_count": 6,
   "metadata": {
    "scrolled": true
   },
   "outputs": [
    {
     "name": "stdout",
     "output_type": "stream",
     "text": [
      "﻿إمارة دبي هي ثاني الإمارات المكونة لدولة الإمارات العربية المتحدة وعاصمتها مدينة دبي. تشكل هذه الإمارة مركزا هاما للمال والأعمال في العالم، ووجهة سياحية يقصدها الملايين من السياح سنوياً.دبي هي العاصمة الاقتصادية للإمارات العربية المتحدة، وقد تطورت تطوراً كبيراً خلال السنوات الماضية. الاقتصاد الحر والنشط في الإمارة وعدم وجود نظام ضريبي لعب دورا كبيرا في جذب المستثمرين من جميع أنحاء العالم. وتقع إمارة دبي بين إمارتي أبو ظبي والشارقة.\n",
      "وأهل إمارة دبي ينحدرون من قبائل عربية متنوعة، على رأسها قبيلة آل بو فلاسه التي تنحدر منها أسرة آل مكتوم الحاكمة. وتقطنها قبائل بني كعب و آل بو فلاح وآل بو مهير والسودان والشوامس والبلوش والمناصير والرميثات والشحوح وغيرهم. وبها عوائل كثيرة من أصول أفريقية وفارسية. ودين أهالي دبي هو الإسلام على نهج أهل السنة والجماعة، والمذهب الرسمي في دبي هو المذهب المالكي.آل مكتوم هم حكام دبي. وهم من آل بو فلاسه من بني ياس. حاكمها الآن هو الشيخ محمد بن راشد آل مكتوم. وهو أيضا نائب لرئيس الدولة و رئيس لمجلس الوزراء في الحكومة الاتحادية. ونائبيه في الحكم هما: شقيقه الشيخ حمدان بن راشد آل مكتوم وزير المالية والصناعة والشيخ مكتوم بن محمد بن راشد آل مكتوم. بينما يتولى منصب ولاية العهد بالإمارة الشيخ حمدان بن محمد بن راشد آل مكتوم رئيس المجلس التنفيذي للإمارة .\n",
      "يرأس المجلس التنفيذي لحكومة دبي الشيخ حمدان بن محمد بن راشد آل مكتوم. ويجمع هذا المجلس في عضويته جميع مدراء الدوائر في حكومة دبي حيث يعقدوت اجتماعاتهم الدورية لتسيير شؤون الإمارة. \n",
      "\n",
      "مرة دبي هي ثني امر كون لدل امر عرب تحد عصم دين دبي . شكل هذه مرة ركز هما مال عمل في علم وجه سيح قصد لاي من سيح سنويا.دبي هي عصم اقتصادية امر عرب تحد وقد تطر تطر كبر خلل سنو اضة . قصد لحر نشط في مرة عدم وجد نظم ضرب لعب دور كبر في جذب ثمر من جمع حاء علم . تقع مرة دبي بين مرت ابو ظبي شارقة.pppواهل مرة دبي حدر من قبءل عرب تنع علي راس قبل ال بو فلس التي حدر منها اسر ال كتم حكم . تقط قبءل بني كعب و ال بو فلح وال بو هير سود شمس بلش مناصير رمث شحح وغر . وبه عءل كثر من اصل فرق فرس . ودن هلي دبي هو سلم علي نهج اهل سنة جمع ذهب رسم في دبي هو ذهب مالكي.ال كتم هم حكم دبي . وهم من ال بو فلس من بني ياس . حكم الن هو شيخ حمد بن رشد ال كتم . وهو ايض نءب رءس دول و رءس جلس زرء في حكم تحد . نءب في حكم هما شقق شيخ حمد بن رشد ال كتم وزر الة صنع شيخ كتم بن حمد بن رشد ال كتم . بين يتل نصب ولي عهد مرة شيخ حمد بن حمد بن رشد ال كتم رءس جلس نفذ مرة .pppيراس جلس نفذ حكم دبي شيخ حمد بن حمد بن رشد ال كتم . جمع هذا جلس في عضي جمع درء دءر في حكم دبي حيث عقدو اجتماعات دور سير شءن مرة . \n",
      "\n",
      "['مرة دبي هي ثني امر كون لدل امر عرب تحد عصم دين دبي ', ' شكل هذه مرة ركز هما مال عمل في علم وجه سيح قصد لاي من سيح سنويا', 'دبي هي عصم اقتصادية امر عرب تحد وقد تطر تطر كبر خلل سنو اضة ', ' قصد لحر نشط في مرة عدم وجد نظم ضرب لعب دور كبر في جذب ثمر من جمع حاء علم ', ' تقع مرة دبي بين مرت ابو ظبي شارقة', 'واهل مرة دبي حدر من قبءل عرب تنع علي راس قبل ال بو فلس التي حدر منها اسر ال كتم حكم ', ' تقط قبءل بني كعب و ال بو فلح وال بو هير سود شمس بلش مناصير رمث شحح وغر ', ' وبه عءل كثر من اصل فرق فرس ', ' ودن هلي دبي هو سلم علي نهج اهل سنة جمع ذهب رسم في دبي هو ذهب مالكي', 'ال كتم هم حكم دبي ', ' وهم من ال بو فلس من بني ياس ', ' حكم الن هو شيخ حمد بن رشد ال كتم ', ' وهو ايض نءب رءس دول و رءس جلس زرء في حكم تحد ', ' نءب في حكم هما شقق شيخ حمد بن رشد ال كتم وزر الة صنع شيخ كتم بن حمد بن رشد ال كتم ', ' بين يتل نصب ولي عهد مرة شيخ حمد بن حمد بن رشد ال كتم رءس جلس نفذ مرة ', 'يراس جلس نفذ حكم دبي شيخ حمد بن حمد بن رشد ال كتم ', ' جمع هذا جلس في عضي جمع درء دءر في حكم دبي حيث عقدو اجتماعات دور سير شءن مرة '] \n",
      "\n",
      "['مرة دبي هي ثني امر كون لدل امر عرب تحد عصم دين دبي . شكل هذه مرة ركز هما مال عمل في علم وجه سيح قصد لاي من سيح سنويا.دبي هي عصم اقتصادية امر عرب تحد وقد تطر تطر كبر خلل سنو اضة . قصد لحر نشط في مرة عدم وجد نظم ضرب لعب دور كبر في جذب ثمر من جمع حاء علم . تقع مرة دبي بين مرت ابو ظبي شارقة.', 'واهل مرة دبي حدر من قبءل عرب تنع علي راس قبل ال بو فلس التي حدر منها اسر ال كتم حكم . تقط قبءل بني كعب و ال بو فلح وال بو هير سود شمس بلش مناصير رمث شحح وغر . وبه عءل كثر من اصل فرق فرس . ودن هلي دبي هو سلم علي نهج اهل سنة جمع ذهب رسم في دبي هو ذهب مالكي.ال كتم هم حكم دبي . وهم من ال بو فلس من بني ياس . حكم الن هو شيخ حمد بن رشد ال كتم . وهو ايض نءب رءس دول و رءس جلس زرء في حكم تحد . نءب في حكم هما شقق شيخ حمد بن رشد ال كتم وزر الة صنع شيخ كتم بن حمد بن رشد ال كتم . بين يتل نصب ولي عهد مرة شيخ حمد بن حمد بن رشد ال كتم رءس جلس نفذ مرة .', 'يراس جلس نفذ حكم دبي شيخ حمد بن حمد بن رشد ال كتم . جمع هذا جلس في عضي جمع درء دءر في حكم دبي حيث عقدو اجتماعات دور سير شءن مرة .'] \n",
      "\n",
      "[['مرة دبي هي ثني امر كون لدل امر عرب تحد عصم دين دبي ', ' شكل هذه مرة ركز هما مال عمل في علم وجه سيح قصد لاي من سيح سنويا', 'دبي هي عصم اقتصادية امر عرب تحد وقد تطر تطر كبر خلل سنو اضة ', ' قصد لحر نشط في مرة عدم وجد نظم ضرب لعب دور كبر في جذب ثمر من جمع حاء علم ', ' تقع مرة دبي بين مرت ابو ظبي شارقة'], ['واهل مرة دبي حدر من قبءل عرب تنع علي راس قبل ال بو فلس التي حدر منها اسر ال كتم حكم ', ' تقط قبءل بني كعب و ال بو فلح وال بو هير سود شمس بلش مناصير رمث شحح وغر ', ' وبه عءل كثر من اصل فرق فرس ', ' ودن هلي دبي هو سلم علي نهج اهل سنة جمع ذهب رسم في دبي هو ذهب مالكي', 'ال كتم هم حكم دبي ', ' وهم من ال بو فلس من بني ياس ', ' حكم الن هو شيخ حمد بن رشد ال كتم ', ' وهو ايض نءب رءس دول و رءس جلس زرء في حكم تحد ', ' نءب في حكم هما شقق شيخ حمد بن رشد ال كتم وزر الة صنع شيخ كتم بن حمد بن رشد ال كتم ', ' بين يتل نصب ولي عهد مرة شيخ حمد بن حمد بن رشد ال كتم رءس جلس نفذ مرة '], ['يراس جلس نفذ حكم دبي شيخ حمد بن حمد بن رشد ال كتم ', ' جمع هذا جلس في عضي جمع درء دءر في حكم دبي حيث عقدو اجتماعات دور سير شءن مرة ']] \n",
      "\n",
      "3 \n",
      "\n",
      "['مرة دبي هي ثني امر كون لدل امر عرب تحد عصم دين دبي ', ' شكل هذه مرة ركز هما مال عمل في علم وجه سيح قصد لاي من سيح سنويا', 'دبي هي عصم اقتصادية امر عرب تحد وقد تطر تطر كبر خلل سنو اضة ', ' قصد لحر نشط في مرة عدم وجد نظم ضرب لعب دور كبر في جذب ثمر من جمع حاء علم ', ' تقع مرة دبي بين مرت ابو ظبي شارقة', 'واهل مرة دبي حدر من قبءل عرب تنع علي راس قبل ال بو فلس التي حدر منها اسر ال كتم حكم ', ' تقط قبءل بني كعب و ال بو فلح وال بو هير سود شمس بلش مناصير رمث شحح وغر ', ' وبه عءل كثر من اصل فرق فرس ', ' ودن هلي دبي هو سلم علي نهج اهل سنة جمع ذهب رسم في دبي هو ذهب مالكي', 'ال كتم هم حكم دبي ', ' وهم من ال بو فلس من بني ياس ', ' حكم الن هو شيخ حمد بن رشد ال كتم ', ' وهو ايض نءب رءس دول و رءس جلس زرء في حكم تحد ', ' نءب في حكم هما شقق شيخ حمد بن رشد ال كتم وزر الة صنع شيخ كتم بن حمد بن رشد ال كتم ', ' بين يتل نصب ولي عهد مرة شيخ حمد بن حمد بن رشد ال كتم رءس جلس نفذ مرة ', 'يراس جلس نفذ حكم دبي شيخ حمد بن حمد بن رشد ال كتم ', ' جمع هذا جلس في عضي جمع درء دءر في حكم دبي حيث عقدو اجتماعات دور سير شءن مرة '] \n",
      "\n",
      "[['مرة', 'دبي', 'هي', 'ثني', 'امر', 'كون', 'لدل', 'امر', 'عرب', 'تحد', 'عصم', 'دين', 'دبي'], ['شكل', 'هذه', 'مرة', 'ركز', 'هما', 'مال', 'عمل', 'في', 'علم', 'وجه', 'سيح', 'قصد', 'لاي', 'من', 'سيح', 'سنويا'], ['دبي', 'هي', 'عصم', 'اقتصادية', 'امر', 'عرب', 'تحد', 'وقد', 'تطر', 'تطر', 'كبر', 'خلل', 'سنو', 'اضة'], ['قصد', 'لحر', 'نشط', 'في', 'مرة', 'عدم', 'وجد', 'نظم', 'ضرب', 'لعب', 'دور', 'كبر', 'في', 'جذب', 'ثمر', 'من', 'جمع', 'حاء', 'علم'], ['تقع', 'مرة', 'دبي', 'بين', 'مرت', 'ابو', 'ظبي', 'شارقة'], ['واهل', 'مرة', 'دبي', 'حدر', 'من', 'قبءل', 'عرب', 'تنع', 'علي', 'راس', 'قبل', 'ال', 'بو', 'فلس', 'التي', 'حدر', 'منها', 'اسر', 'ال', 'كتم', 'حكم'], ['تقط', 'قبءل', 'بني', 'كعب', 'و', 'ال', 'بو', 'فلح', 'وال', 'بو', 'هير', 'سود', 'شمس', 'بلش', 'مناصير', 'رمث', 'شحح', 'وغر'], ['وبه', 'عءل', 'كثر', 'من', 'اصل', 'فرق', 'فرس'], ['ودن', 'هلي', 'دبي', 'هو', 'سلم', 'علي', 'نهج', 'اهل', 'سنة', 'جمع', 'ذهب', 'رسم', 'في', 'دبي', 'هو', 'ذهب', 'مالكي'], ['ال', 'كتم', 'هم', 'حكم', 'دبي'], ['وهم', 'من', 'ال', 'بو', 'فلس', 'من', 'بني', 'ياس'], ['حكم', 'الن', 'هو', 'شيخ', 'حمد', 'بن', 'رشد', 'ال', 'كتم'], ['وهو', 'ايض', 'نءب', 'رءس', 'دول', 'و', 'رءس', 'جلس', 'زرء', 'في', 'حكم', 'تحد'], ['نءب', 'في', 'حكم', 'هما', 'شقق', 'شيخ', 'حمد', 'بن', 'رشد', 'ال', 'كتم', 'وزر', 'الة', 'صنع', 'شيخ', 'كتم', 'بن', 'حمد', 'بن', 'رشد', 'ال', 'كتم'], ['بين', 'يتل', 'نصب', 'ولي', 'عهد', 'مرة', 'شيخ', 'حمد', 'بن', 'حمد', 'بن', 'رشد', 'ال', 'كتم', 'رءس', 'جلس', 'نفذ', 'مرة'], ['يراس', 'جلس', 'نفذ', 'حكم', 'دبي', 'شيخ', 'حمد', 'بن', 'حمد', 'بن', 'رشد', 'ال', 'كتم'], ['جمع', 'هذا', 'جلس', 'في', 'عضي', 'جمع', 'درء', 'دءر', 'في', 'حكم', 'دبي', 'حيث', 'عقدو', 'اجتماعات', 'دور', 'سير', 'شءن', 'مرة']] \n",
      "\n"
     ]
    }
   ],
   "source": [
    "print(original_text,\"\\n\")\n",
    "print(preprocessed_text,\"\\n\")\n",
    "print(sentences,\"\\n\")\n",
    "print(paragraphs,\"\\n\")\n",
    "print(para_sent_list,\"\\n\")\n",
    "print(len(paragraphs),\"\\n\")\n",
    "print(preprocessed_sentences,\"\\n\")\n",
    "print(tokenized_word_sentences,\"\\n\")"
   ]
  },
  {
   "cell_type": "code",
   "execution_count": 7,
   "metadata": {},
   "outputs": [],
   "source": [
    "doc = document.Doc(\n",
    "    original_text = original_text ,  original_sentences = original_sentences ,\n",
    "    preprocessed_text = preprocessed_text.replace('ppp',\"\"),\n",
    "    sentences = sentences,\n",
    "    paragraphs = paragraphs ,para_sent_list = para_sent_list ,tokenized_word_sentences = tokenized_word_sentences)"
   ]
  },
  {
   "cell_type": "code",
   "execution_count": 4,
   "metadata": {},
   "outputs": [
    {
     "data": {
      "text/plain": [
       "[['مرة دبي هي ثني امر كون لدل امر عرب تحد عصم دين دبي ',\n",
       "  ' شكل هذه مرة ركز هما مال عمل في علم وجه سيح قصد لاي من سيح سنويا',\n",
       "  'دبي هي عصم اقتصادية امر عرب تحد وقد تطر تطر كبر خلل سنو اضة ',\n",
       "  ' قصد لحر نشط في مرة عدم وجد نظم ضرب لعب دور كبر في جذب ثمر من جمع حاء علم ',\n",
       "  ' تقع مرة دبي بين مرت ابو ظبي شارقة'],\n",
       " ['واهل مرة دبي حدر من قبءل عرب تنع علي راس قبل ال بو فلس التي حدر منها اسر ال كتم حكم ',\n",
       "  ' تقط قبءل بني كعب و ال بو فلح وال بو هير سود شمس بلش مناصير رمث شحح وغر ',\n",
       "  ' وبه عءل كثر من اصل فرق فرس ',\n",
       "  ' ودن هلي دبي هو سلم علي نهج اهل سنة جمع ذهب رسم في دبي هو ذهب مالكي',\n",
       "  'ال كتم هم حكم دبي ',\n",
       "  ' وهم من ال بو فلس من بني ياس ',\n",
       "  ' حكم الن هو شيخ حمد بن رشد ال كتم ',\n",
       "  ' وهو ايض نءب رءس دول و رءس جلس زرء في حكم تحد ',\n",
       "  ' نءب في حكم هما شقق شيخ حمد بن رشد ال كتم وزر الة صنع شيخ كتم بن حمد بن رشد ال كتم ',\n",
       "  ' بين يتل نصب ولي عهد مرة شيخ حمد بن حمد بن رشد ال كتم رءس جلس نفذ مرة '],\n",
       " ['يراس جلس نفذ حكم دبي شيخ حمد بن حمد بن رشد ال كتم ',\n",
       "  ' جمع هذا جلس في عضي جمع درء دءر في حكم دبي حيث عقدو اجتماعات دور سير شءن مرة ']]"
      ]
     },
     "execution_count": 4,
     "metadata": {},
     "output_type": "execute_result"
    }
   ],
   "source": [
    "doc.para_sent_list"
   ]
  },
  {
   "cell_type": "markdown",
   "metadata": {},
   "source": [
    "## Keyphrase Feaure "
   ]
  },
  {
   "cell_type": "code",
   "execution_count": 4,
   "metadata": {},
   "outputs": [
    {
     "data": {
      "text/plain": [
       "'مرة دبي هي ثني امر كون لدل امر عرب تحد عصم دين دبي'"
      ]
     },
     "execution_count": 4,
     "metadata": {},
     "output_type": "execute_result"
    }
   ],
   "source": [
    "sent1 = preprocessed_sentences[0]\n",
    "sent1"
   ]
  },
  {
   "cell_type": "code",
   "execution_count": 5,
   "metadata": {},
   "outputs": [
    {
     "data": {
      "text/plain": [
       "'تقع مرة دبي بين مرت ابو ظبي شارقة'"
      ]
     },
     "execution_count": 5,
     "metadata": {},
     "output_type": "execute_result"
    }
   ],
   "source": [
    "sent4 = preprocessed_sentences[4]\n",
    "sent4"
   ]
  },
  {
   "cell_type": "code",
   "execution_count": 4,
   "metadata": {
    "collapsed": true
   },
   "outputs": [
    {
     "data": {
      "text/plain": [
       "[('حمد', 0.007180488319778574),\n",
       " ('رشد', 0.01047356012944052),\n",
       " ('دبي', 0.014069182047195363),\n",
       " ('كتم', 0.01476420150588332),\n",
       " ('حكم', 0.015706769515747496),\n",
       " ('مرة', 0.018413187070804565),\n",
       " ('شيخ', 0.02093572777391354),\n",
       " ('جلس', 0.026175977397234835),\n",
       " ('عرب', 0.030829509309901137),\n",
       " ('جمع', 0.03264921527469983),\n",
       " ('رءس', 0.035234302181788024),\n",
       " ('امر', 0.035234302181788024),\n",
       " ('تحد', 0.035234302181788024),\n",
       " ('نفذ', 0.04685698926833211),\n",
       " ('فلس', 0.04685698926833211)]"
      ]
     },
     "execution_count": 4,
     "metadata": {},
     "output_type": "execute_result"
    }
   ],
   "source": [
    "doc.key_phrases = doc.get_doc_key_phrase(preprocessed_text)\n",
    "doc.key_phrases"
   ]
  },
  {
   "cell_type": "code",
   "execution_count": 6,
   "metadata": {
    "collapsed": true
   },
   "outputs": [
    {
     "data": {
      "text/plain": [
       "defaultdict(int,\n",
       "            {'امر': 0.02702702702702703,\n",
       "             'تحد': 0.04054054054054054,\n",
       "             'جلس': 0.05405405405405406,\n",
       "             'جمع': 0.04054054054054054,\n",
       "             'حكم': 0.0945945945945946,\n",
       "             'حمد': 0.05405405405405406,\n",
       "             'دبي': 0.10810810810810811,\n",
       "             'رءس': 0.02702702702702703,\n",
       "             'رشد': 0.05405405405405406,\n",
       "             'شيخ': 0.05405405405405406,\n",
       "             'عرب': 0.04054054054054054,\n",
       "             'فلس': 0.02702702702702703,\n",
       "             'كتم': 0.08108108108108109,\n",
       "             'مرة': 0.0945945945945946,\n",
       "             'نفذ': 0.02702702702702703})"
      ]
     },
     "execution_count": 6,
     "metadata": {},
     "output_type": "execute_result"
    }
   ],
   "source": [
    "doc.key_phrase_frequency = doc.get_key_phrase_frequency(sent1)\n",
    "doc.key_phrase_frequency"
   ]
  },
  {
   "cell_type": "code",
   "execution_count": 7,
   "metadata": {
    "collapsed": true
   },
   "outputs": [
    {
     "data": {
      "text/plain": [
       "{'امر': 1,\n",
       " 'تحد': 1,\n",
       " 'جلس': 1,\n",
       " 'جمع': 1,\n",
       " 'حكم': 1,\n",
       " 'حمد': 1,\n",
       " 'دبي': 1,\n",
       " 'رءس': 1,\n",
       " 'رشد': 1,\n",
       " 'شيخ': 1,\n",
       " 'عرب': 1,\n",
       " 'فلس': 1,\n",
       " 'كتم': 1,\n",
       " 'مرة': 1,\n",
       " 'نفذ': 1}"
      ]
     },
     "execution_count": 7,
     "metadata": {},
     "output_type": "execute_result"
    }
   ],
   "source": [
    "doc.get_key_phrase_proper_name()"
   ]
  },
  {
   "cell_type": "code",
   "execution_count": 8,
   "metadata": {
    "collapsed": true
   },
   "outputs": [
    {
     "data": {
      "text/plain": [
       "{'امر': 1.7320508075688772,\n",
       " 'تحد': 1.7320508075688772,\n",
       " 'جلس': 1.7320508075688772,\n",
       " 'جمع': 1.7320508075688772,\n",
       " 'حكم': 1.7320508075688772,\n",
       " 'حمد': 1.7320508075688772,\n",
       " 'دبي': 1.7320508075688772,\n",
       " 'رءس': 1.7320508075688772,\n",
       " 'رشد': 1.7320508075688772,\n",
       " 'شيخ': 1.7320508075688772,\n",
       " 'عرب': 1.7320508075688772,\n",
       " 'فلس': 1.7320508075688772,\n",
       " 'كتم': 1.7320508075688772,\n",
       " 'مرة': 1.7320508075688772,\n",
       " 'نفذ': 1.7320508075688772}"
      ]
     },
     "execution_count": 8,
     "metadata": {},
     "output_type": "execute_result"
    }
   ],
   "source": [
    "doc.get_key_phrase_length()"
   ]
  },
  {
   "cell_type": "code",
   "execution_count": 10,
   "metadata": {
    "collapsed": true
   },
   "outputs": [
    {
     "data": {
      "text/plain": [
       "['ال',\n",
       " 'امر',\n",
       " 'بن',\n",
       " 'بني',\n",
       " 'بو',\n",
       " 'بين',\n",
       " 'تحد',\n",
       " 'تطر',\n",
       " 'جلس',\n",
       " 'جمع',\n",
       " 'حدر',\n",
       " 'حكم',\n",
       " 'حمد',\n",
       " 'دبي',\n",
       " 'دور',\n",
       " 'ذهب',\n",
       " 'رءس',\n",
       " 'رشد',\n",
       " 'سيح',\n",
       " 'شيخ',\n",
       " 'عرب',\n",
       " 'عصم',\n",
       " 'علم',\n",
       " 'علي',\n",
       " 'فلس',\n",
       " 'في',\n",
       " 'قبءل',\n",
       " 'قصد',\n",
       " 'كبر',\n",
       " 'كتم',\n",
       " 'مرة',\n",
       " 'من',\n",
       " 'نءب',\n",
       " 'نفذ',\n",
       " 'هما',\n",
       " 'هو',\n",
       " 'هي']"
      ]
     },
     "execution_count": 10,
     "metadata": {},
     "output_type": "execute_result"
    }
   ],
   "source": [
    "doc.get_topic_idf(sentences)"
   ]
  },
  {
   "cell_type": "code",
   "execution_count": 5,
   "metadata": {},
   "outputs": [
    {
     "data": {
      "text/plain": [
       "0"
      ]
     },
     "execution_count": 5,
     "metadata": {},
     "output_type": "execute_result"
    }
   ],
   "source": [
    "doc.get_key_phrase_score(sent1)"
   ]
  },
  {
   "cell_type": "markdown",
   "metadata": {},
   "source": [
    "## Sentence Location Feature "
   ]
  },
  {
   "cell_type": "code",
   "execution_count": 5,
   "metadata": {},
   "outputs": [
    {
     "data": {
      "text/plain": [
       "3"
      ]
     },
     "execution_count": 5,
     "metadata": {},
     "output_type": "execute_result"
    }
   ],
   "source": [
    "len(para_sent_list)"
   ]
  },
  {
   "cell_type": "code",
   "execution_count": 6,
   "metadata": {},
   "outputs": [
    {
     "data": {
      "text/plain": [
       "[[['مرة دبي هي ثني امر كون لدل امر عرب تحد عصم دين دبي '],\n",
       "  [' شكل هذه مرة ركز هما مال عمل في علم وجه سيح قصد لاي من سيح سنويا'],\n",
       "  ['دبي هي عصم اقتصادية امر عرب تحد وقد تطر تطر كبر خلل سنو اضة '],\n",
       "  [' قصد لحر نشط في مرة عدم وجد نظم ضرب لعب دور كبر في جذب ثمر من جمع حاء علم '],\n",
       "  [' تقع مرة دبي بين مرت ابو ظبي شارقة']],\n",
       " [['واهل مرة دبي حدر من قبءل عرب تنع علي راس قبل ال بو فلس التي حدر منها اسر ال كتم حكم '],\n",
       "  [' تقط قبءل بني كعب و ال بو فلح وال بو هير سود شمس بلش مناصير رمث شحح وغر '],\n",
       "  [' وبه عءل كثر من اصل فرق فرس '],\n",
       "  [' ودن هلي دبي هو سلم علي نهج اهل سنة جمع ذهب رسم في دبي هو ذهب مالكي'],\n",
       "  ['ال كتم هم حكم دبي '],\n",
       "  [' وهم من ال بو فلس من بني ياس '],\n",
       "  [' حكم الن هو شيخ حمد بن رشد ال كتم '],\n",
       "  [' وهو ايض نءب رءس دول و رءس جلس زرء في حكم تحد '],\n",
       "  [' نءب في حكم هما شقق شيخ حمد بن رشد ال كتم وزر الة صنع شيخ كتم بن حمد بن رشد ال كتم '],\n",
       "  [' بين يتل نصب ولي عهد مرة شيخ حمد بن حمد بن رشد ال كتم رءس جلس نفذ مرة ']],\n",
       " [['يراس جلس نفذ حكم دبي شيخ حمد بن حمد بن رشد ال كتم '],\n",
       "  [' جمع هذا جلس في عضي جمع درء دءر في حكم دبي حيث عقدو اجتماعات دور سير شءن مرة ']]]"
      ]
     },
     "execution_count": 6,
     "metadata": {},
     "output_type": "execute_result"
    }
   ],
   "source": [
    "para_sent_list"
   ]
  },
  {
   "cell_type": "code",
   "execution_count": 11,
   "metadata": {},
   "outputs": [
    {
     "name": "stdout",
     "output_type": "stream",
     "text": [
      "[['مرة دبي هي ثني امر كون لدل امر عرب تحد عصم دين دبي '], [' شكل هذه مرة ركز هما مال عمل في علم وجه سيح قصد لاي من سيح سنويا'], ['دبي هي عصم اقتصادية امر عرب تحد وقد تطر تطر كبر خلل سنو اضة '], [' قصد لحر نشط في مرة عدم وجد نظم ضرب لعب دور كبر في جذب ثمر من جمع حاء علم '], [' تقع مرة دبي بين مرت ابو ظبي شارقة']]\n",
      "[['واهل مرة دبي حدر من قبءل عرب تنع علي راس قبل ال بو فلس التي حدر منها اسر ال كتم حكم '], [' تقط قبءل بني كعب و ال بو فلح وال بو هير سود شمس بلش مناصير رمث شحح وغر '], [' وبه عءل كثر من اصل فرق فرس '], [' ودن هلي دبي هو سلم علي نهج اهل سنة جمع ذهب رسم في دبي هو ذهب مالكي'], ['ال كتم هم حكم دبي '], [' وهم من ال بو فلس من بني ياس '], [' حكم الن هو شيخ حمد بن رشد ال كتم '], [' وهو ايض نءب رءس دول و رءس جلس زرء في حكم تحد '], [' نءب في حكم هما شقق شيخ حمد بن رشد ال كتم وزر الة صنع شيخ كتم بن حمد بن رشد ال كتم '], [' بين يتل نصب ولي عهد مرة شيخ حمد بن حمد بن رشد ال كتم رءس جلس نفذ مرة ']]\n",
      "[['يراس جلس نفذ حكم دبي شيخ حمد بن حمد بن رشد ال كتم '], [' جمع هذا جلس في عضي جمع درء دءر في حكم دبي حيث عقدو اجتماعات دور سير شءن مرة ']]\n"
     ]
    }
   ],
   "source": [
    "for paragrpah_index,list_para in enumerate(para_sent_list) : print (list_para)"
   ]
  },
  {
   "cell_type": "code",
   "execution_count": 12,
   "metadata": {},
   "outputs": [
    {
     "data": {
      "text/plain": [
       "['يراس جلس نفذ حكم دبي شيخ حمد بن حمد بن رشد ال كتم ']"
      ]
     },
     "execution_count": 12,
     "metadata": {},
     "output_type": "execute_result"
    }
   ],
   "source": [
    "list_para[0]"
   ]
  },
  {
   "cell_type": "code",
   "execution_count": 7,
   "metadata": {},
   "outputs": [
    {
     "data": {
      "text/plain": [
       "3"
      ]
     },
     "execution_count": 7,
     "metadata": {},
     "output_type": "execute_result"
    }
   ],
   "source": [
    "doc.sentence_location_score(sent1)"
   ]
  },
  {
   "cell_type": "code",
   "execution_count": 8,
   "metadata": {},
   "outputs": [
    {
     "data": {
      "text/plain": [
       "0.5"
      ]
     },
     "execution_count": 8,
     "metadata": {},
     "output_type": "execute_result"
    }
   ],
   "source": [
    "doc.sentence_location_score(sent4)"
   ]
  },
  {
   "cell_type": "code",
   "execution_count": 43,
   "metadata": {},
   "outputs": [
    {
     "data": {
      "text/plain": [
       "[[0, 0, 0], [0, 4, 0], [0, 0, 0], [3, 0, 0]]"
      ]
     },
     "execution_count": 43,
     "metadata": {},
     "output_type": "execute_result"
    }
   ],
   "source": [
    "l = [[1,0,0], [0,4,0], [0,0,1], [3,0,0]]\n",
    "l = [[0 if x == 1 else x for x in sub_l] for sub_l in l]\n",
    "l"
   ]
  },
  {
   "cell_type": "code",
   "execution_count": 5,
   "metadata": {},
   "outputs": [],
   "source": [
    "doc.tf_idf,doc.centroid_vector = doc.get_tfidf_centroid_vector(sentences)"
   ]
  },
  {
   "cell_type": "code",
   "execution_count": 6,
   "metadata": {},
   "outputs": [
    {
     "ename": "NameError",
     "evalue": "name 'tf' is not defined",
     "output_type": "error",
     "traceback": [
      "\u001b[1;31m---------------------------------------------------------------------------\u001b[0m",
      "\u001b[1;31mNameError\u001b[0m                                 Traceback (most recent call last)",
      "\u001b[1;32m<ipython-input-6-94c9a362cb69>\u001b[0m in \u001b[0;36m<module>\u001b[1;34m()\u001b[0m\n\u001b[1;32m----> 1\u001b[1;33m \u001b[0mtf\u001b[0m\u001b[1;33m.\u001b[0m\u001b[0mshape\u001b[0m \u001b[1;31m#17 sentence , 18 word\u001b[0m\u001b[1;33m\u001b[0m\u001b[0m\n\u001b[0m",
      "\u001b[1;31mNameError\u001b[0m: name 'tf' is not defined"
     ]
    }
   ],
   "source": [
    "tf.shape #17 sentence , 18 word"
   ]
  },
  {
   "cell_type": "code",
   "execution_count": 11,
   "metadata": {},
   "outputs": [
    {
     "data": {
      "text/plain": [
       "(128,)"
      ]
     },
     "execution_count": 11,
     "metadata": {},
     "output_type": "execute_result"
    }
   ],
   "source": [
    "vec.shape"
   ]
  },
  {
   "cell_type": "code",
   "execution_count": 8,
   "metadata": {},
   "outputs": [
    {
     "name": "stdout",
     "output_type": "stream",
     "text": [
      "0.29439505573142427\n",
      "0.21786101034832578\n",
      "0.24914254038260608\n",
      "0.2427804472278084\n",
      "0.12804386248161473\n",
      "0.37797468225530256\n",
      "0.13212632061410423\n",
      "0.04728940710967362\n",
      "0.2554594692281977\n",
      "0.3446235862545231\n",
      "0.2751218971196341\n",
      "0.5357681729708738\n",
      "0.24825499757508376\n",
      "0.5765072137550332\n",
      "0.526205790734049\n",
      "0.6067953722246339\n",
      "0.27329371889482756\n"
     ]
    }
   ],
   "source": [
    "for i in range(len(doc.tf_idf)) :\n",
    "    print(doc.cosine_similarity_V1(doc.tf_idf[i],doc.centroid_vector))"
   ]
  },
  {
   "cell_type": "code",
   "execution_count": 2,
   "metadata": {},
   "outputs": [
    {
     "data": {
      "text/plain": [
       "0.97228425171235"
      ]
     },
     "execution_count": 2,
     "metadata": {},
     "output_type": "execute_result"
    }
   ],
   "source": [
    "from scipy import spatial\n",
    "\n",
    "a = [3, 45, 7, 2]\n",
    "b = [2, 54, 13, 15]\n",
    "result = 1 - spatial.distance.cosine(a, b)\n",
    "result"
   ]
  },
  {
   "cell_type": "code",
   "execution_count": 3,
   "metadata": {},
   "outputs": [
    {
     "data": {
      "text/plain": [
       "0.9722842517123499"
      ]
     },
     "execution_count": 3,
     "metadata": {},
     "output_type": "execute_result"
    }
   ],
   "source": [
    "from numpy import dot\n",
    "from numpy.linalg import norm\n",
    "\n",
    "cos_sim = dot(a, b)/(norm(a)*norm(b))\n",
    "cos_sim"
   ]
  },
  {
   "cell_type": "code",
   "execution_count": 18,
   "metadata": {},
   "outputs": [
    {
     "name": "stdout",
     "output_type": "stream",
     "text": [
      "['and', 'document', 'first', 'is', 'one', 'second', 'the', 'third', 'this']\n"
     ]
    },
    {
     "data": {
      "text/plain": [
       "['and', 'document', 'first', 'is', 'one', 'second', 'the', 'third', 'this']"
      ]
     },
     "execution_count": 18,
     "metadata": {},
     "output_type": "execute_result"
    }
   ],
   "source": [
    "from sklearn.feature_extraction.text import TfidfVectorizer\n",
    "corpus = [\n",
    " 'This is the first document.',\n",
    "'This document is the second document.',\n",
    "'And this is the third one.',\n",
    "'Is this the first document?',\n",
    "]\n",
    "vectorizer = TfidfVectorizer()\n",
    "X = vectorizer.fit(corpus)\n",
    "print(vectorizer.get_feature_names())\n",
    "['and', 'document', 'first', 'is', 'one', 'second', 'the', 'third', 'this']\n",
    "#print(X.shape)\n"
   ]
  },
  {
   "cell_type": "code",
   "execution_count": 22,
   "metadata": {},
   "outputs": [
    {
     "data": {
      "text/plain": [
       "array([[0.        , 0.42796959, 0.        , 0.34989318, 0.        ,\n",
       "        0.67049706, 0.34989318, 0.        , 0.34989318]])"
      ]
     },
     "execution_count": 22,
     "metadata": {},
     "output_type": "execute_result"
    }
   ],
   "source": [
    "X.transform(['This document is the second documen']).toarray()"
   ]
  },
  {
   "cell_type": "code",
   "execution_count": 8,
   "metadata": {},
   "outputs": [
    {
     "data": {
      "text/plain": [
       "['مرة دبي هي ثني امر كون لدل امر عرب تحد عصم دين دبي ',\n",
       " ' شكل هذه مرة ركز هما مال عمل في علم وجه سيح قصد لاي من سيح سنويا',\n",
       " 'دبي هي عصم اقتصادية امر عرب تحد وقد تطر تطر كبر خلل سنو اضة ',\n",
       " ' قصد لحر نشط في مرة عدم وجد نظم ضرب لعب دور كبر في جذب ثمر من جمع حاء علم ',\n",
       " ' تقع مرة دبي بين مرت ابو ظبي شارقة',\n",
       " 'واهل مرة دبي حدر من قبءل عرب تنع علي راس قبل ال بو فلس التي حدر منها اسر ال كتم حكم ',\n",
       " ' تقط قبءل بني كعب و ال بو فلح وال بو هير سود شمس بلش مناصير رمث شحح وغر ',\n",
       " ' وبه عءل كثر من اصل فرق فرس ',\n",
       " ' ودن هلي دبي هو سلم علي نهج اهل سنة جمع ذهب رسم في دبي هو ذهب مالكي',\n",
       " 'ال كتم هم حكم دبي ',\n",
       " ' وهم من ال بو فلس من بني ياس ',\n",
       " ' حكم الن هو شيخ حمد بن رشد ال كتم ',\n",
       " ' وهو ايض نءب رءس دول و رءس جلس زرء في حكم تحد ',\n",
       " ' نءب في حكم هما شقق شيخ حمد بن رشد ال كتم وزر الة صنع شيخ كتم بن حمد بن رشد ال كتم ',\n",
       " ' بين يتل نصب ولي عهد مرة شيخ حمد بن حمد بن رشد ال كتم رءس جلس نفذ مرة ',\n",
       " 'يراس جلس نفذ حكم دبي شيخ حمد بن حمد بن رشد ال كتم ',\n",
       " ' جمع هذا جلس في عضي جمع درء دءر في حكم دبي حيث عقدو اجتماعات دور سير شءن مرة ']"
      ]
     },
     "execution_count": 8,
     "metadata": {},
     "output_type": "execute_result"
    }
   ],
   "source": [
    "sentences\n"
   ]
  },
  {
   "cell_type": "code",
   "execution_count": 1,
   "metadata": {},
   "outputs": [
    {
     "data": {
      "text/plain": [
       "0.068"
      ]
     },
     "execution_count": 1,
     "metadata": {},
     "output_type": "execute_result"
    }
   ],
   "source": [
    "(0.4  * 17)/100"
   ]
  },
  {
   "cell_type": "code",
   "execution_count": 15,
   "metadata": {},
   "outputs": [
    {
     "data": {
      "text/plain": [
       "(128,)"
      ]
     },
     "execution_count": 15,
     "metadata": {},
     "output_type": "execute_result"
    }
   ],
   "source": [
    "vec_sentence = doc.tf_idf.transform([sent1.strip()]).toarray()[0]\n",
    "vec_sentence = np.squeeze(vec_sentence)\n",
    "vec_sentence.shape"
   ]
  },
  {
   "cell_type": "code",
   "execution_count": 16,
   "metadata": {},
   "outputs": [
    {
     "data": {
      "text/plain": [
       "0.27121257153300155"
      ]
     },
     "execution_count": 16,
     "metadata": {},
     "output_type": "execute_result"
    }
   ],
   "source": [
    "doc.cosine_similarity_V1(vec_sentence ,doc.centroid_vector)"
   ]
  },
  {
   "cell_type": "code",
   "execution_count": 11,
   "metadata": {},
   "outputs": [
    {
     "data": {
      "text/plain": [
       "17"
      ]
     },
     "execution_count": 11,
     "metadata": {},
     "output_type": "execute_result"
    }
   ],
   "source": [
    "len(sentences)"
   ]
  },
  {
   "cell_type": "code",
   "execution_count": 12,
   "metadata": {},
   "outputs": [
    {
     "data": {
      "text/plain": [
       "17"
      ]
     },
     "execution_count": 12,
     "metadata": {},
     "output_type": "execute_result"
    }
   ],
   "source": [
    "org_sentences = pr.get_article_sentences(dubai)\n",
    "len(org_sentences)"
   ]
  },
  {
   "cell_type": "markdown",
   "metadata": {},
   "source": [
    "# Centrality Feature"
   ]
  },
  {
   "cell_type": "code",
   "execution_count": 5,
   "metadata": {},
   "outputs": [],
   "source": [
    "from  sklearn.metrics.pairwise import cosine_similarity"
   ]
  },
  {
   "cell_type": "code",
   "execution_count": 18,
   "metadata": {},
   "outputs": [
    {
     "data": {
      "text/plain": [
       "(17, 128)"
      ]
     },
     "execution_count": 18,
     "metadata": {},
     "output_type": "execute_result"
    }
   ],
   "source": [
    "vecs = doc.tf_idf.transform(sentences)\n",
    "vecs.shape"
   ]
  },
  {
   "cell_type": "code",
   "execution_count": 25,
   "metadata": {},
   "outputs": [],
   "source": [
    "cosine_similarity(vecs,vecs).shape\n",
    "cos = cosine_similarity(vecs,vecs)"
   ]
  },
  {
   "cell_type": "code",
   "execution_count": 17,
   "metadata": {},
   "outputs": [
    {
     "data": {
      "text/plain": [
       "(128,)"
      ]
     },
     "execution_count": 17,
     "metadata": {},
     "output_type": "execute_result"
    }
   ],
   "source": [
    "vec_sentence = doc.tf_idf.transform([sent1.strip()]).toarray()[0]\n",
    "vec_sentence.shape"
   ]
  },
  {
   "cell_type": "code",
   "execution_count": 21,
   "metadata": {},
   "outputs": [
    {
     "data": {
      "text/plain": [
       "(1, 17)"
      ]
     },
     "execution_count": 21,
     "metadata": {},
     "output_type": "execute_result"
    }
   ],
   "source": [
    "cosine_similarity(vec_sentence.reshape(1,-1),vecs).shape"
   ]
  },
  {
   "cell_type": "code",
   "execution_count": 22,
   "metadata": {},
   "outputs": [
    {
     "data": {
      "text/plain": [
       "array([[1.        , 0.01975356, 0.36042234, 0.01973309, 0.08396446,\n",
       "        0.09140867, 0.        , 0.        , 0.06385184, 0.09435213,\n",
       "        0.        , 0.        , 0.05392681, 0.        , 0.04406395,\n",
       "        0.04938631, 0.05564071]])"
      ]
     },
     "execution_count": 22,
     "metadata": {},
     "output_type": "execute_result"
    }
   ],
   "source": [
    "cos_1 = cosine_similarity(vec_sentence.reshape(1,-1),vecs)\n",
    "cos_1"
   ]
  },
  {
   "cell_type": "code",
   "execution_count": 26,
   "metadata": {},
   "outputs": [
    {
     "data": {
      "text/plain": [
       "array([1.        , 0.01975356, 0.36042234, 0.01973309, 0.08396446,\n",
       "       0.09140867, 0.        , 0.        , 0.06385184, 0.09435213,\n",
       "       0.        , 0.        , 0.05392681, 0.        , 0.04406395,\n",
       "       0.04938631, 0.05564071])"
      ]
     },
     "execution_count": 26,
     "metadata": {},
     "output_type": "execute_result"
    }
   ],
   "source": [
    "cos[0]"
   ]
  },
  {
   "cell_type": "code",
   "execution_count": 30,
   "metadata": {},
   "outputs": [
    {
     "data": {
      "text/plain": [
       "array([0.01975356, 1.        , 0.        , 0.16710045, 0.02540058,\n",
       "       0.03731566, 0.        , 0.03466491, 0.0178435 , 0.        ,\n",
       "       0.07505607, 0.        , 0.02479303, 0.05864348, 0.03635106,\n",
       "       0.        , 0.05622045])"
      ]
     },
     "execution_count": 30,
     "metadata": {},
     "output_type": "execute_result"
    }
   ],
   "source": [
    "cos[1]"
   ]
  },
  {
   "cell_type": "code",
   "execution_count": 32,
   "metadata": {},
   "outputs": [
    {
     "data": {
      "text/plain": [
       "(array([1, 3], dtype=int64),)"
      ]
     },
     "execution_count": 32,
     "metadata": {},
     "output_type": "execute_result"
    }
   ],
   "source": [
    "np.where(cos[1] > 0.1)"
   ]
  },
  {
   "cell_type": "code",
   "execution_count": 34,
   "metadata": {},
   "outputs": [
    {
     "data": {
      "text/plain": [
       "2"
      ]
     },
     "execution_count": 34,
     "metadata": {},
     "output_type": "execute_result"
    }
   ],
   "source": [
    "len(np.where(cos[1] > 0.1)[0])"
   ]
  },
  {
   "cell_type": "code",
   "execution_count": 28,
   "metadata": {},
   "outputs": [
    {
     "data": {
      "text/plain": [
       "array([ True,  True,  True,  True,  True,  True,  True,  True,  True,\n",
       "        True,  True,  True,  True,  True,  True,  True,  True])"
      ]
     },
     "execution_count": 28,
     "metadata": {},
     "output_type": "execute_result"
    }
   ],
   "source": [
    "np.equal(cos[0],cos_1[0])"
   ]
  },
  {
   "cell_type": "code",
   "execution_count": 8,
   "metadata": {},
   "outputs": [],
   "source": [
    "features = [doc.get_key_phrase_score ,doc.sentence_location_score,doc.get_centroid_score,\n",
    "                    doc.get_centrality_score ,doc.sentence_length_score ,doc.cue_phrases_score ,\n",
    "                    doc.strong_words_score]"
   ]
  },
  {
   "cell_type": "code",
   "execution_count": 20,
   "metadata": {},
   "outputs": [],
   "source": [
    "def score(sentences) :    \n",
    "    lst = []\n",
    "    ordered_list = []\n",
    "    max_legnth_summary = 5\n",
    "    summary  = []\n",
    "    sentence_scores = []\n",
    "    for index,sentence in enumerate(sentences) :\n",
    "        total_score = 0\n",
    "        for feature in features :\n",
    "            score = feature(sentence)\n",
    "            total_score += score\n",
    "        sentence_scores.append((index,total_score))\n",
    "\n",
    "\n",
    "    ordered_list = sorted(sentence_scores,key =  lambda x : x[1] ,reverse = True)\n",
    "    summary = ordered_list[:max_legnth_summary] \n",
    "    \n",
    "    #pdb.set_trace()\n",
    "    last_summary = sorted(summary,key =  lambda x : x[0])\n",
    "    sum_list = [original_sentences[x] for (x,y) in last_summary]\n",
    "    text_list = \".\".join(sum_list)\n",
    "    return text_list\n",
    "\n",
    "    \n",
    "  \n",
    "  "
   ]
  },
  {
   "cell_type": "code",
   "execution_count": 21,
   "metadata": {},
   "outputs": [
    {
     "data": {
      "text/plain": [
       "'\\ufeffإمارة دبي هي ثاني الإمارات المكونة لدولة الإمارات العربية المتحدة وعاصمتها مدينة دبي.وأهل إمارة دبي ينحدرون من قبائل عربية متنوعة، على رأسها قبيلة آل بو فلاسه التي تنحدر منها أسرة آل مكتوم الحاكمة.ونائبيه في الحكم هما: شقيقه الشيخ حمدان بن راشد آل مكتوم وزير المالية والصناعة والشيخ مكتوم بن محمد بن راشد آل مكتوم.بينما يتولى منصب ولاية العهد بالإمارة الشيخ حمدان بن محمد بن راشد آل مكتوم رئيس المجلس التنفيذي للإمارة.يرأس المجلس التنفيذي لحكومة دبي الشيخ حمدان بن محمد بن راشد آل مكتوم'"
      ]
     },
     "execution_count": 21,
     "metadata": {},
     "output_type": "execute_result"
    }
   ],
   "source": [
    "score(sentences)"
   ]
  },
  {
   "cell_type": "code",
   "execution_count": null,
   "metadata": {},
   "outputs": [
    {
     "name": "stdout",
     "output_type": "stream",
     "text": [
      "> c:\\users\\omar\\anacondaprojects\\arabic_extractive_text_summarizer\\run_files.py(44)run()\n",
      "-> with open(output_path,'w' ,encoding = \"utf-8\") as f: f.write(summary)\n",
      "(Pdb) summary\n",
      "'\\ufeffقضية لوكربي هي قضية جنائية ترتبت على سقوط طائرة ركاب أميركية أثناء تحليقها فوق قرية لوكربي Lockerbie باسكتلندا سنة 1988.بعد تحقيقات ليست معلنة ، وبعد تكهنات من وسائل الاعلام بتدوير المسؤلية بين دول مختلفة، يجمع بينها رابط العداء لاميركا ، وحركات تحرير تضعها اميركا في خانة المنظمات الارهابية ، ودون سابق انذار وبالتزامن صدر في الولايات المتحدة الأميركية و بريطانيا في 13 نوفمبر 1991 أمرا بالقبض على مواطنين ليبيين يشتبه في مسؤليتها عن تفجير الطائرة كونهما يعملان بمكتب شركة الخطوط الجوية الليبية بمطار لوقا بمالطا وبمعرفتهما تم شحن حقيبة تحتوي على متفجرات.على الفور رفضت ليبيا الطلب وبدأ القضاء الليبي التحقيق في الاتهام و اوقف المواطنان الليبيان وطلب من الدولتين تقديم مالديهما من ادلة ضدّهما.بدأت الدولتان بأستغلال تاثيرهما في التحرك داخل مجلس الأمن حتّى تمكنتا من اصدار قرار من المجلس المذكور في 31 مارس 1992 يحمل الرقم 748 بأغلبية 10 أصوات بينها دولة عربية وامتناع 5 أعضاء عن التصويت ، يوجب على ليبيا الاستجابة لطلب الدولتين ، ويهدد بفرض عقوبات عليها من بينها حظر الطيران منها واليها ، وقد رفضت ليبيا الاستجابة لهذا القرار وتم فعلا توقيع العقوبات في الموعد المضروب كأجل نهائي وهو 15 أبريل 1992 ، ولقد قامت الدولتان في وقت لاحق في 11 نوفمبر من نفس العام باستصدار قرار اخر من مجلس الامن برقم 883 يطوّر من نوع العقوبات المفروضة ويوسّعها لاجبار ليبيا على الاذعان لمطالب الدولتين.لم تستجب ليبيا لمطالب الدولتين التي اكتسبت طابع الدولية ، وبدأت تحركا دوليا واسعا يستهدف اقناع العالم بالوقوف إلى جانبها على الاقل بالقبول بمحاكمة المشتبه فيهما في بلد ثالث اذا لم يكن بالامكان تجاوز القرار الدولي، ولقد نجحت ليبيا في ذلك إلى حد بعيد ، عندما حصلت على دعم الدول العربية ممثلة في جامعتها ، التي شكلت لجنة سباعية دائمة لهذا الغرض ، وحصلت على دعم دول عدم الانحياز ، ولعل اهم دعم حصلت عليه كان من الدول الافريقية التي قررت في قمتها التي انعقدت في واغادوغو عاصمة بوركينا فاسو في 10 يونيو 1998 كسر الحظر المفروض على ليبيا بحلول شهر سبتمبر من نفس العام مالم يستجاب إلى مطالبها'\n"
     ]
    }
   ],
   "source": [
    "%run run_files.py --i  t1.txt \n"
   ]
  },
  {
   "cell_type": "code",
   "execution_count": 5,
   "metadata": {},
   "outputs": [],
   "source": [
    "!ipython run_files.py t1.txt "
   ]
  },
  {
   "cell_type": "code",
   "execution_count": null,
   "metadata": {},
   "outputs": [],
   "source": []
  }
 ],
 "metadata": {
  "kernelspec": {
   "display_name": "Python 3",
   "language": "python",
   "name": "python3"
  },
  "language_info": {
   "codemirror_mode": {
    "name": "ipython",
    "version": 3
   },
   "file_extension": ".py",
   "mimetype": "text/x-python",
   "name": "python",
   "nbconvert_exporter": "python",
   "pygments_lexer": "ipython3",
   "version": "3.5.5"
  }
 },
 "nbformat": 4,
 "nbformat_minor": 2
}
