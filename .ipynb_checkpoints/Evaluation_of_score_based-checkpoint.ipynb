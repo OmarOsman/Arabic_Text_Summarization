{
 "cells": [
  {
   "cell_type": "code",
   "execution_count": 1,
   "metadata": {
    "collapsed": true
   },
   "outputs": [
    {
     "name": "stdout",
     "output_type": "stream",
     "text": [
      "Collecting pip\n",
      "  Using cached https://files.pythonhosted.org/packages/30/db/9e38760b32e3e7f40cce46dd5fb107b8c73840df38f0046d8e6514e675a1/pip-19.2.3-py2.py3-none-any.whl\n",
      "Installing collected packages: pip\n",
      "  Found existing installation: pip 19.2.1\n",
      "    Uninstalling pip-19.2.1:\n",
      "      Successfully uninstalled pip-19.2.1\n",
      "  Rolling back uninstall of pip\n",
      "  Moving to c:\\users\\fujitsu\\appdata\\roaming\\python\\python36\\scripts\\pip.exe\n",
      "   from C:\\Users\\Fujitsu\\AppData\\Local\\Temp\\pip-uninstall-8d34wkut\\pip.exe\n",
      "  Moving to c:\\users\\fujitsu\\appdata\\roaming\\python\\python36\\scripts\\pip3.6.exe\n",
      "   from C:\\Users\\Fujitsu\\AppData\\Local\\Temp\\pip-uninstall-8d34wkut\\pip3.6.exe\n",
      "  Moving to c:\\users\\fujitsu\\appdata\\roaming\\python\\python36\\scripts\\pip3.exe\n",
      "   from C:\\Users\\Fujitsu\\AppData\\Local\\Temp\\pip-uninstall-8d34wkut\\pip3.exe\n",
      "  Moving to c:\\users\\fujitsu\\appdata\\roaming\\python\\python36\\site-packages\\pip-19.2.1.dist-info\\\n",
      "   from c:\\users\\fujitsu\\appdata\\roaming\\python\\python36\\site-packages\\~ip-19.2.1.dist-info\n",
      "  Moving to c:\\users\\fujitsu\\appdata\\roaming\\python\\python36\\site-packages\\pip\\\n",
      "   from c:\\users\\fujitsu\\appdata\\roaming\\python\\python36\\site-packages\\~ip\n"
     ]
    },
    {
     "name": "stderr",
     "output_type": "stream",
     "text": [
      "ERROR: Could not install packages due to an EnvironmentError: [WinError 5] Access is denied: 'C:\\\\ProgramData\\\\Anaconda3\\\\Lib\\\\site-packages\\\\pip\\\\__init__.py'\n",
      "Consider using the `--user` option or check the permissions.\n",
      "\n",
      "WARNING: You are using pip version 19.2.1, however version 19.2.3 is available.\n",
      "You should consider upgrading via the 'python -m pip install --upgrade pip' command.\n"
     ]
    },
    {
     "name": "stdout",
     "output_type": "stream",
     "text": [
      "Collecting git+https://github.com/LIAAD/yake\n",
      "  Cloning https://github.com/LIAAD/yake to c:\\users\\fujitsu\\appdata\\local\\temp\\pip-req-build-mwuhg_3n\n"
     ]
    },
    {
     "name": "stderr",
     "output_type": "stream",
     "text": [
      "  Running command git clone -q https://github.com/LIAAD/yake 'C:\\Users\\Fujitsu\\AppData\\Local\\Temp\\pip-req-build-mwuhg_3n'\n",
      "  ERROR: Error [WinError 2] The system cannot find the file specified while executing command git clone -q https://github.com/LIAAD/yake 'C:\\Users\\Fujitsu\\AppData\\Local\\Temp\\pip-req-build-mwuhg_3n'\n",
      "ERROR: Cannot find command 'git' - do you have 'git' installed and in your PATH?\n",
      "WARNING: You are using pip version 19.2.1, however version 19.2.3 is available.\n",
      "You should consider upgrading via the 'python -m pip install --upgrade pip' command.\n"
     ]
    },
    {
     "name": "stdout",
     "output_type": "stream",
     "text": [
      "Requirement already satisfied: Rouge in c:\\programdata\\anaconda3\\lib\\site-packages (0.3.2)\n"
     ]
    },
    {
     "name": "stderr",
     "output_type": "stream",
     "text": [
      "WARNING: You are using pip version 19.2.1, however version 19.2.3 is available.\n",
      "You should consider upgrading via the 'python -m pip install --upgrade pip' command.\n"
     ]
    }
   ],
   "source": [
    "!python -m pip install --upgrade pip\n",
    "!pip install Rouge\n"
   ]
  },
  {
   "cell_type": "code",
   "execution_count": 1,
   "metadata": {
    "collapsed": true
   },
   "outputs": [
    {
     "name": "stdout",
     "output_type": "stream",
     "text": [
      "Collecting git+https://github.com/LIAAD/yake\n",
      "  Cloning https://github.com/LIAAD/yake to c:\\users\\fujitsu\\appdata\\local\\temp\\pip-req-build-jkf177rd\n",
      "Collecting tabulate (from yake==0.4.2)\n",
      "  Downloading https://files.pythonhosted.org/packages/c2/fd/202954b3f0eb896c53b7b6f07390851b1fd2ca84aa95880d7ae4f434c4ac/tabulate-0.8.3.tar.gz (46kB)\n",
      "Requirement already satisfied: click>=6.0 in c:\\programdata\\anaconda3\\lib\\site-packages (from yake==0.4.2) (6.7)\n",
      "Requirement already satisfied: numpy in c:\\users\\fujitsu\\appdata\\roaming\\python\\python36\\site-packages (from yake==0.4.2) (1.17.0)\n",
      "Collecting segtok (from yake==0.4.2)\n",
      "  Downloading https://files.pythonhosted.org/packages/1d/59/6ed78856ab99d2da04084b59e7da797972baa0efecb71546b16d48e49d9b/segtok-1.5.7.tar.gz\n",
      "Requirement already satisfied: networkx in c:\\programdata\\anaconda3\\lib\\site-packages (from yake==0.4.2) (2.1)\n",
      "Collecting jellyfish (from yake==0.4.2)\n",
      "  Downloading https://files.pythonhosted.org/packages/3f/80/bcacc7affb47be7279d7d35225e1a932416ed051b315a7f9df20acf04cbe/jellyfish-0.7.2.tar.gz (133kB)\n",
      "Collecting regex (from segtok->yake==0.4.2)\n",
      "  Downloading https://files.pythonhosted.org/packages/68/89/c8791c667486889cbd77a108b9d44bdc2082eb05cd292a51147dd47dbb34/regex-2019.08.19-cp36-none-win_amd64.whl (325kB)\n",
      "Requirement already satisfied: decorator>=4.1.0 in c:\\programdata\\anaconda3\\lib\\site-packages (from networkx->yake==0.4.2) (4.3.0)\n",
      "Building wheels for collected packages: yake, tabulate, segtok, jellyfish\n",
      "  Building wheel for yake (setup.py): started\n",
      "  Building wheel for yake (setup.py): finished with status 'done'\n",
      "  Created wheel for yake: filename=yake-0.4.2-py2.py3-none-any.whl size=52016 sha256=a533f0a95c6fbb8e73abce670dfc7354d31e875485922829e594ce983670ec99\n",
      "  Stored in directory: C:\\Users\\Fujitsu\\AppData\\Local\\Temp\\pip-ephem-wheel-cache-we1gtb84\\wheels\\be\\35\\27\\e4ebd54b78c1806ed8b0271ce247fcd91e2bedde35889fbc9b\n",
      "  Building wheel for tabulate (setup.py): started\n",
      "  Building wheel for tabulate (setup.py): finished with status 'done'\n",
      "  Created wheel for tabulate: filename=tabulate-0.8.3-cp36-none-any.whl size=22566 sha256=caf6fb31372eee5ce208d69680a3730dfb915e5e57437112425002a66012b059\n",
      "  Stored in directory: C:\\Users\\Fujitsu\\AppData\\Local\\pip\\Cache\\wheels\\2b\\67\\89\\414471314a2d15de625d184d8be6d38a03ae1e983dbda91e84\n",
      "  Building wheel for segtok (setup.py): started\n",
      "  Building wheel for segtok (setup.py): finished with status 'done'\n",
      "  Created wheel for segtok: filename=segtok-1.5.7-cp36-none-any.whl size=23267 sha256=d9bea429d79059a137a9cbf1bb656fc910df2158697fd54964309b1b57cc55f9\n",
      "  Stored in directory: C:\\Users\\Fujitsu\\AppData\\Local\\pip\\Cache\\wheels\\15\\ee\\a8\\6112173f1386d33eebedb3f73429cfa41a4c3084556bcee254\n",
      "  Building wheel for jellyfish (setup.py): started\n",
      "  Building wheel for jellyfish (setup.py): finished with status 'done'\n",
      "  Created wheel for jellyfish: filename=jellyfish-0.7.2-cp36-none-any.whl size=9150 sha256=15c50f44d03c0d6f5602c18e7d164266be8f95264b3b9a1882029e7f3fe6a0ee\n",
      "  Stored in directory: C:\\Users\\Fujitsu\\AppData\\Local\\pip\\Cache\\wheels\\e8\\fe\\99\\d8fa8f2ef7b82a625b0b77a84d319b0b50693659823c4effb4\n",
      "Successfully built yake tabulate segtok jellyfish\n",
      "Installing collected packages: tabulate, regex, segtok, jellyfish, yake\n",
      "Successfully installed jellyfish-0.7.2 regex-2019.8.19 segtok-1.5.7 tabulate-0.8.3 yake-0.4.2\n"
     ]
    },
    {
     "name": "stderr",
     "output_type": "stream",
     "text": [
      "  Running command git clone -q https://github.com/LIAAD/yake 'C:\\Users\\Fujitsu\\AppData\\Local\\Temp\\pip-req-build-jkf177rd'\n",
      "WARNING: You are using pip version 19.2.1, however version 19.2.3 is available.\n",
      "You should consider upgrading via the 'python -m pip install --upgrade pip' command.\n"
     ]
    }
   ],
   "source": [
    "!pip install git+https://github.com/LIAAD/yake "
   ]
  },
  {
   "cell_type": "code",
   "execution_count": 1,
   "metadata": {},
   "outputs": [],
   "source": [
    "import numpy as np\n",
    "import pandas as pd\n",
    "import pdb\n",
    "import string\n",
    "import os\n",
    "import re\n",
    "\n",
    "import document\n",
    "import preprocess\n",
    "import evaluate\n",
    "import build_dataset\n",
    "\n",
    "from nltk.tokenize import word_tokenize\n",
    "from nltk.stem.isri import ISRIStemmer"
   ]
  },
  {
   "cell_type": "code",
   "execution_count": 2,
   "metadata": {},
   "outputs": [],
   "source": [
    "dataset = build_dataset.Dataset()"
   ]
  },
  {
   "cell_type": "code",
   "execution_count": 3,
   "metadata": {},
   "outputs": [
    {
     "data": {
      "text/plain": [
       "'data'"
      ]
     },
     "execution_count": 3,
     "metadata": {},
     "output_type": "execute_result"
    }
   ],
   "source": [
    "dataset.data_dir"
   ]
  },
  {
   "cell_type": "code",
   "execution_count": 4,
   "metadata": {},
   "outputs": [
    {
     "data": {
      "text/plain": [
       "'data\\\\EASC-UTF-8\\\\Articles'"
      ]
     },
     "execution_count": 4,
     "metadata": {},
     "output_type": "execute_result"
    }
   ],
   "source": [
    "dataset.train_dir_name"
   ]
  },
  {
   "cell_type": "code",
   "execution_count": 5,
   "metadata": {},
   "outputs": [
    {
     "ename": "IndexError",
     "evalue": "list index out of range",
     "output_type": "error",
     "traceback": [
      "\u001b[1;31m---------------------------------------------------------------------------\u001b[0m",
      "\u001b[1;31mIndexError\u001b[0m                                Traceback (most recent call last)",
      "\u001b[1;32m<ipython-input-5-2aa011bbc6db>\u001b[0m in \u001b[0;36m<module>\u001b[1;34m()\u001b[0m\n\u001b[1;32m----> 1\u001b[1;33m \u001b[0mdataset\u001b[0m\u001b[1;33m.\u001b[0m\u001b[0mread_dataset\u001b[0m\u001b[1;33m(\u001b[0m\u001b[1;33m)\u001b[0m\u001b[1;33m\u001b[0m\u001b[0m\n\u001b[0m",
      "\u001b[1;32m~\\Omar\\Arabic_Text_Summarization\\build_dataset.py\u001b[0m in \u001b[0;36mread_dataset\u001b[1;34m(self)\u001b[0m\n\u001b[0;32m     50\u001b[0m             \u001b[0msum2\u001b[0m \u001b[1;33m=\u001b[0m  \u001b[0mself\u001b[0m\u001b[1;33m.\u001b[0m\u001b[0mpr\u001b[0m\u001b[1;33m.\u001b[0m\u001b[0mget_article_content\u001b[0m\u001b[1;33m(\u001b[0m\u001b[0mtest_path\u001b[0m\u001b[1;33m[\u001b[0m\u001b[1;36m1\u001b[0m\u001b[1;33m]\u001b[0m\u001b[1;33m)\u001b[0m\u001b[1;33m\u001b[0m\u001b[0m\n\u001b[0;32m     51\u001b[0m             \u001b[0msum3\u001b[0m \u001b[1;33m=\u001b[0m  \u001b[0mself\u001b[0m\u001b[1;33m.\u001b[0m\u001b[0mpr\u001b[0m\u001b[1;33m.\u001b[0m\u001b[0mget_article_content\u001b[0m\u001b[1;33m(\u001b[0m\u001b[0mtest_path\u001b[0m\u001b[1;33m[\u001b[0m\u001b[1;36m2\u001b[0m\u001b[1;33m]\u001b[0m\u001b[1;33m)\u001b[0m\u001b[1;33m\u001b[0m\u001b[0m\n\u001b[1;32m---> 52\u001b[1;33m             \u001b[0msum4\u001b[0m \u001b[1;33m=\u001b[0m  \u001b[0mself\u001b[0m\u001b[1;33m.\u001b[0m\u001b[0mpr\u001b[0m\u001b[1;33m.\u001b[0m\u001b[0mget_article_content\u001b[0m\u001b[1;33m(\u001b[0m\u001b[0mtest_path\u001b[0m\u001b[1;33m[\u001b[0m\u001b[1;36m3\u001b[0m\u001b[1;33m]\u001b[0m\u001b[1;33m)\u001b[0m\u001b[1;33m\u001b[0m\u001b[0m\n\u001b[0m\u001b[0;32m     53\u001b[0m             \u001b[0msum5\u001b[0m \u001b[1;33m=\u001b[0m  \u001b[0mself\u001b[0m\u001b[1;33m.\u001b[0m\u001b[0mpr\u001b[0m\u001b[1;33m.\u001b[0m\u001b[0mget_article_content\u001b[0m\u001b[1;33m(\u001b[0m\u001b[0mtest_path\u001b[0m\u001b[1;33m[\u001b[0m\u001b[1;36m4\u001b[0m\u001b[1;33m]\u001b[0m\u001b[1;33m)\u001b[0m\u001b[1;33m\u001b[0m\u001b[0m\n\u001b[0;32m     54\u001b[0m \u001b[1;33m\u001b[0m\u001b[0m\n",
      "\u001b[1;31mIndexError\u001b[0m: list index out of range"
     ]
    }
   ],
   "source": [
    "dataset.read_dataset()"
   ]
  },
  {
   "cell_type": "code",
   "execution_count": null,
   "metadata": {},
   "outputs": [],
   "source": []
  }
 ],
 "metadata": {
  "kernelspec": {
   "display_name": "Python 3",
   "language": "python",
   "name": "python3"
  },
  "language_info": {
   "codemirror_mode": {
    "name": "ipython",
    "version": 3
   },
   "file_extension": ".py",
   "mimetype": "text/x-python",
   "name": "python",
   "nbconvert_exporter": "python",
   "pygments_lexer": "ipython3",
   "version": "3.6.5"
  }
 },
 "nbformat": 4,
 "nbformat_minor": 2
}
