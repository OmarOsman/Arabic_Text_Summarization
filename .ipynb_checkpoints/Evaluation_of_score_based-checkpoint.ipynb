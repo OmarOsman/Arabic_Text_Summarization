{
 "cells": [
  {
   "cell_type": "code",
   "execution_count": 1,
   "metadata": {
    "collapsed": true
   },
   "outputs": [
    {
     "name": "stdout",
     "output_type": "stream",
     "text": [
      "Collecting pip\n",
      "  Using cached https://files.pythonhosted.org/packages/30/db/9e38760b32e3e7f40cce46dd5fb107b8c73840df38f0046d8e6514e675a1/pip-19.2.3-py2.py3-none-any.whl\n",
      "Installing collected packages: pip\n",
      "  Found existing installation: pip 19.2.1\n",
      "    Uninstalling pip-19.2.1:\n",
      "      Successfully uninstalled pip-19.2.1\n",
      "  Rolling back uninstall of pip\n",
      "  Moving to c:\\users\\fujitsu\\appdata\\roaming\\python\\python36\\scripts\\pip.exe\n",
      "   from C:\\Users\\Fujitsu\\AppData\\Local\\Temp\\pip-uninstall-8d34wkut\\pip.exe\n",
      "  Moving to c:\\users\\fujitsu\\appdata\\roaming\\python\\python36\\scripts\\pip3.6.exe\n",
      "   from C:\\Users\\Fujitsu\\AppData\\Local\\Temp\\pip-uninstall-8d34wkut\\pip3.6.exe\n",
      "  Moving to c:\\users\\fujitsu\\appdata\\roaming\\python\\python36\\scripts\\pip3.exe\n",
      "   from C:\\Users\\Fujitsu\\AppData\\Local\\Temp\\pip-uninstall-8d34wkut\\pip3.exe\n",
      "  Moving to c:\\users\\fujitsu\\appdata\\roaming\\python\\python36\\site-packages\\pip-19.2.1.dist-info\\\n",
      "   from c:\\users\\fujitsu\\appdata\\roaming\\python\\python36\\site-packages\\~ip-19.2.1.dist-info\n",
      "  Moving to c:\\users\\fujitsu\\appdata\\roaming\\python\\python36\\site-packages\\pip\\\n",
      "   from c:\\users\\fujitsu\\appdata\\roaming\\python\\python36\\site-packages\\~ip\n"
     ]
    },
    {
     "name": "stderr",
     "output_type": "stream",
     "text": [
      "ERROR: Could not install packages due to an EnvironmentError: [WinError 5] Access is denied: 'C:\\\\ProgramData\\\\Anaconda3\\\\Lib\\\\site-packages\\\\pip\\\\__init__.py'\n",
      "Consider using the `--user` option or check the permissions.\n",
      "\n",
      "WARNING: You are using pip version 19.2.1, however version 19.2.3 is available.\n",
      "You should consider upgrading via the 'python -m pip install --upgrade pip' command.\n"
     ]
    },
    {
     "name": "stdout",
     "output_type": "stream",
     "text": [
      "Collecting git+https://github.com/LIAAD/yake\n",
      "  Cloning https://github.com/LIAAD/yake to c:\\users\\fujitsu\\appdata\\local\\temp\\pip-req-build-mwuhg_3n\n"
     ]
    },
    {
     "name": "stderr",
     "output_type": "stream",
     "text": [
      "  Running command git clone -q https://github.com/LIAAD/yake 'C:\\Users\\Fujitsu\\AppData\\Local\\Temp\\pip-req-build-mwuhg_3n'\n",
      "  ERROR: Error [WinError 2] The system cannot find the file specified while executing command git clone -q https://github.com/LIAAD/yake 'C:\\Users\\Fujitsu\\AppData\\Local\\Temp\\pip-req-build-mwuhg_3n'\n",
      "ERROR: Cannot find command 'git' - do you have 'git' installed and in your PATH?\n",
      "WARNING: You are using pip version 19.2.1, however version 19.2.3 is available.\n",
      "You should consider upgrading via the 'python -m pip install --upgrade pip' command.\n"
     ]
    },
    {
     "name": "stdout",
     "output_type": "stream",
     "text": [
      "Requirement already satisfied: Rouge in c:\\programdata\\anaconda3\\lib\\site-packages (0.3.2)\n"
     ]
    },
    {
     "name": "stderr",
     "output_type": "stream",
     "text": [
      "WARNING: You are using pip version 19.2.1, however version 19.2.3 is available.\n",
      "You should consider upgrading via the 'python -m pip install --upgrade pip' command.\n"
     ]
    }
   ],
   "source": [
    "!python -m pip install --upgrade pip\n",
    "!pip install Rouge\n"
   ]
  },
  {
   "cell_type": "code",
   "execution_count": 1,
   "metadata": {
    "collapsed": true
   },
   "outputs": [
    {
     "name": "stdout",
     "output_type": "stream",
     "text": [
      "Collecting git+https://github.com/LIAAD/yake\n",
      "  Cloning https://github.com/LIAAD/yake to c:\\users\\fujitsu\\appdata\\local\\temp\\pip-req-build-jkf177rd\n",
      "Collecting tabulate (from yake==0.4.2)\n",
      "  Downloading https://files.pythonhosted.org/packages/c2/fd/202954b3f0eb896c53b7b6f07390851b1fd2ca84aa95880d7ae4f434c4ac/tabulate-0.8.3.tar.gz (46kB)\n",
      "Requirement already satisfied: click>=6.0 in c:\\programdata\\anaconda3\\lib\\site-packages (from yake==0.4.2) (6.7)\n",
      "Requirement already satisfied: numpy in c:\\users\\fujitsu\\appdata\\roaming\\python\\python36\\site-packages (from yake==0.4.2) (1.17.0)\n",
      "Collecting segtok (from yake==0.4.2)\n",
      "  Downloading https://files.pythonhosted.org/packages/1d/59/6ed78856ab99d2da04084b59e7da797972baa0efecb71546b16d48e49d9b/segtok-1.5.7.tar.gz\n",
      "Requirement already satisfied: networkx in c:\\programdata\\anaconda3\\lib\\site-packages (from yake==0.4.2) (2.1)\n",
      "Collecting jellyfish (from yake==0.4.2)\n",
      "  Downloading https://files.pythonhosted.org/packages/3f/80/bcacc7affb47be7279d7d35225e1a932416ed051b315a7f9df20acf04cbe/jellyfish-0.7.2.tar.gz (133kB)\n",
      "Collecting regex (from segtok->yake==0.4.2)\n",
      "  Downloading https://files.pythonhosted.org/packages/68/89/c8791c667486889cbd77a108b9d44bdc2082eb05cd292a51147dd47dbb34/regex-2019.08.19-cp36-none-win_amd64.whl (325kB)\n",
      "Requirement already satisfied: decorator>=4.1.0 in c:\\programdata\\anaconda3\\lib\\site-packages (from networkx->yake==0.4.2) (4.3.0)\n",
      "Building wheels for collected packages: yake, tabulate, segtok, jellyfish\n",
      "  Building wheel for yake (setup.py): started\n",
      "  Building wheel for yake (setup.py): finished with status 'done'\n",
      "  Created wheel for yake: filename=yake-0.4.2-py2.py3-none-any.whl size=52016 sha256=a533f0a95c6fbb8e73abce670dfc7354d31e875485922829e594ce983670ec99\n",
      "  Stored in directory: C:\\Users\\Fujitsu\\AppData\\Local\\Temp\\pip-ephem-wheel-cache-we1gtb84\\wheels\\be\\35\\27\\e4ebd54b78c1806ed8b0271ce247fcd91e2bedde35889fbc9b\n",
      "  Building wheel for tabulate (setup.py): started\n",
      "  Building wheel for tabulate (setup.py): finished with status 'done'\n",
      "  Created wheel for tabulate: filename=tabulate-0.8.3-cp36-none-any.whl size=22566 sha256=caf6fb31372eee5ce208d69680a3730dfb915e5e57437112425002a66012b059\n",
      "  Stored in directory: C:\\Users\\Fujitsu\\AppData\\Local\\pip\\Cache\\wheels\\2b\\67\\89\\414471314a2d15de625d184d8be6d38a03ae1e983dbda91e84\n",
      "  Building wheel for segtok (setup.py): started\n",
      "  Building wheel for segtok (setup.py): finished with status 'done'\n",
      "  Created wheel for segtok: filename=segtok-1.5.7-cp36-none-any.whl size=23267 sha256=d9bea429d79059a137a9cbf1bb656fc910df2158697fd54964309b1b57cc55f9\n",
      "  Stored in directory: C:\\Users\\Fujitsu\\AppData\\Local\\pip\\Cache\\wheels\\15\\ee\\a8\\6112173f1386d33eebedb3f73429cfa41a4c3084556bcee254\n",
      "  Building wheel for jellyfish (setup.py): started\n",
      "  Building wheel for jellyfish (setup.py): finished with status 'done'\n",
      "  Created wheel for jellyfish: filename=jellyfish-0.7.2-cp36-none-any.whl size=9150 sha256=15c50f44d03c0d6f5602c18e7d164266be8f95264b3b9a1882029e7f3fe6a0ee\n",
      "  Stored in directory: C:\\Users\\Fujitsu\\AppData\\Local\\pip\\Cache\\wheels\\e8\\fe\\99\\d8fa8f2ef7b82a625b0b77a84d319b0b50693659823c4effb4\n",
      "Successfully built yake tabulate segtok jellyfish\n",
      "Installing collected packages: tabulate, regex, segtok, jellyfish, yake\n",
      "Successfully installed jellyfish-0.7.2 regex-2019.8.19 segtok-1.5.7 tabulate-0.8.3 yake-0.4.2\n"
     ]
    },
    {
     "name": "stderr",
     "output_type": "stream",
     "text": [
      "  Running command git clone -q https://github.com/LIAAD/yake 'C:\\Users\\Fujitsu\\AppData\\Local\\Temp\\pip-req-build-jkf177rd'\n",
      "WARNING: You are using pip version 19.2.1, however version 19.2.3 is available.\n",
      "You should consider upgrading via the 'python -m pip install --upgrade pip' command.\n"
     ]
    }
   ],
   "source": [
    "!pip install git+https://github.com/LIAAD/yake "
   ]
  },
  {
   "cell_type": "code",
   "execution_count": 1,
   "metadata": {},
   "outputs": [],
   "source": [
    "import numpy as np\n",
    "import pandas as pd\n",
    "import pdb\n",
    "import string\n",
    "import os\n",
    "import re\n",
    "\n",
    "import document\n",
    "import preprocess\n",
    "import evaluate\n",
    "import build_dataset\n",
    "\n",
    "from nltk.tokenize import word_tokenize\n",
    "from nltk.stem.isri import ISRIStemmer"
   ]
  },
  {
   "cell_type": "code",
   "execution_count": 2,
   "metadata": {},
   "outputs": [],
   "source": [
    "pr = preprocess.Preprocess()"
   ]
  },
  {
   "cell_type": "code",
   "execution_count": 3,
   "metadata": {},
   "outputs": [],
   "source": [
    "dataset = build_dataset.Dataset()"
   ]
  },
  {
   "cell_type": "code",
   "execution_count": 4,
   "metadata": {},
   "outputs": [
    {
     "data": {
      "text/plain": [
       "'data'"
      ]
     },
     "execution_count": 4,
     "metadata": {},
     "output_type": "execute_result"
    }
   ],
   "source": [
    "dataset.data_dir"
   ]
  },
  {
   "cell_type": "code",
   "execution_count": 5,
   "metadata": {},
   "outputs": [
    {
     "data": {
      "text/plain": [
       "'data\\\\EASC-UTF-8\\\\Articles'"
      ]
     },
     "execution_count": 5,
     "metadata": {},
     "output_type": "execute_result"
    }
   ],
   "source": [
    "dataset.train_dir_name"
   ]
  },
  {
   "cell_type": "code",
   "execution_count": 6,
   "metadata": {},
   "outputs": [],
   "source": [
    "ds = dataset.read_dataset()"
   ]
  },
  {
   "cell_type": "code",
   "execution_count": 7,
   "metadata": {},
   "outputs": [
    {
     "data": {
      "text/html": [
       "<div>\n",
       "<style scoped>\n",
       "    .dataframe tbody tr th:only-of-type {\n",
       "        vertical-align: middle;\n",
       "    }\n",
       "\n",
       "    .dataframe tbody tr th {\n",
       "        vertical-align: top;\n",
       "    }\n",
       "\n",
       "    .dataframe thead th {\n",
       "        text-align: right;\n",
       "    }\n",
       "</style>\n",
       "<table border=\"1\" class=\"dataframe\">\n",
       "  <thead>\n",
       "    <tr style=\"text-align: right;\">\n",
       "      <th></th>\n",
       "      <th>Orignal</th>\n",
       "      <th>Summary1</th>\n",
       "      <th>Summary2</th>\n",
       "      <th>Summary3</th>\n",
       "      <th>Summary4</th>\n",
       "      <th>Summary5</th>\n",
       "    </tr>\n",
       "  </thead>\n",
       "  <tbody>\n",
       "    <tr>\n",
       "      <th>0</th>\n",
       "      <td>﻿لودفيج فان بيتهوفن مؤلف موسيقي ألماني ولد عام...</td>\n",
       "      <td>له الفضل الاعظم في تطوير الموسيقى الكلاسيكية....</td>\n",
       "      <td>يعتبر من ابرز عباقرة الموسيقى في جميع العصور،...</td>\n",
       "      <td>يعتبر من ابرز عباقرة الموسيقى في جميع العصور،...</td>\n",
       "      <td>يعتبر من ابرز عباقرة الموسيقى في جميع العصور،...</td>\n",
       "      <td>يعتبر من ابرز عباقرة الموسيقى في جميع العصور،...</td>\n",
       "    </tr>\n",
       "    <tr>\n",
       "      <th>1</th>\n",
       "      <td>﻿لوتشانو بافاروتي مواليد مودينا في 12 أكتوبر 1...</td>\n",
       "      <td>لوتشانو بافاروتي مواليد مودينا في 12 اكتوبر 19...</td>\n",
       "      <td>ولد في بمدينة مودينا شمال ايطاليا لعائلة خباز...</td>\n",
       "      <td>ولد في بمدينة مودينا شمال ايطاليا لعائلة خباز...</td>\n",
       "      <td>لوتشانو بافاروتي مواليد مودينا في 12 اكتوبر 19...</td>\n",
       "      <td>لوتشانو بافاروتي مواليد مودينا في 12 اكتوبر 19...</td>\n",
       "    </tr>\n",
       "    <tr>\n",
       "      <th>2</th>\n",
       "      <td>﻿السياسة البربرية تعد هذه السياسة من بين النقط...</td>\n",
       "      <td>ومع ذلك فقد بقيت هذه الكتابات طيلة القرن التاس...</td>\n",
       "      <td>ومع ذلك فقد بقيت هذه الكتابات طيلة القرن التاس...</td>\n",
       "      <td>السياسة البربرية تعد هذه السياسة من بين النقط ...</td>\n",
       "      <td>ومع ذلك فقد بقيت هذه الكتابات طيلة القرن التاس...</td>\n",
       "      <td>فجمع حوله ثلة من المفكرين ذوي هذا الاتجاه وخاص...</td>\n",
       "    </tr>\n",
       "    <tr>\n",
       "      <th>3</th>\n",
       "      <td>﻿حرب اليمن أو حرب شمال اليمن الأهلية هي حرب دا...</td>\n",
       "      <td>﻿حرب اليمن أو حرب شمال اليمن الأهلية هي حرب دا...</td>\n",
       "      <td>وقد سيطرت الفصائل الجمهورية على الحكم في نهاية...</td>\n",
       "      <td>حرب اليمن أو حرب شمال اليمن الأهلية هي حرب دار...</td>\n",
       "      <td>فكانت الدول العربية مستقطبة بين المعسكرين الشر...</td>\n",
       "      <td>حرب اليمن أو حرب شمال اليمن الأهلية هي حرب دار...</td>\n",
       "    </tr>\n",
       "    <tr>\n",
       "      <th>4</th>\n",
       "      <td>﻿حرب فيتنام أو الحرب الهندوصينية الثانية كانت ...</td>\n",
       "      <td>وقد عُرف هؤلاء بالفيت كونغ.\\nورويداً رويداً تش...</td>\n",
       "      <td>في عام 1957م بدأت قوات الفيت منه في الجنوب في ...</td>\n",
       "      <td>وفي عام 1959م أعلنت فيتنام الشمالية تأييدها له...</td>\n",
       "      <td>حرب فيتنام أو الحرب الهندوصينية الثانية كانت ن...</td>\n",
       "      <td>حرب فيتنام أو الحرب الهندوصينية الثانية كانت ن...</td>\n",
       "    </tr>\n",
       "  </tbody>\n",
       "</table>\n",
       "</div>"
      ],
      "text/plain": [
       "                                             Orignal  \\\n",
       "0  ﻿لودفيج فان بيتهوفن مؤلف موسيقي ألماني ولد عام...   \n",
       "1  ﻿لوتشانو بافاروتي مواليد مودينا في 12 أكتوبر 1...   \n",
       "2  ﻿السياسة البربرية تعد هذه السياسة من بين النقط...   \n",
       "3  ﻿حرب اليمن أو حرب شمال اليمن الأهلية هي حرب دا...   \n",
       "4  ﻿حرب فيتنام أو الحرب الهندوصينية الثانية كانت ...   \n",
       "\n",
       "                                            Summary1  \\\n",
       "0   له الفضل الاعظم في تطوير الموسيقى الكلاسيكية....   \n",
       "1  لوتشانو بافاروتي مواليد مودينا في 12 اكتوبر 19...   \n",
       "2  ومع ذلك فقد بقيت هذه الكتابات طيلة القرن التاس...   \n",
       "3  ﻿حرب اليمن أو حرب شمال اليمن الأهلية هي حرب دا...   \n",
       "4  وقد عُرف هؤلاء بالفيت كونغ.\\nورويداً رويداً تش...   \n",
       "\n",
       "                                            Summary2  \\\n",
       "0   يعتبر من ابرز عباقرة الموسيقى في جميع العصور،...   \n",
       "1   ولد في بمدينة مودينا شمال ايطاليا لعائلة خباز...   \n",
       "2  ومع ذلك فقد بقيت هذه الكتابات طيلة القرن التاس...   \n",
       "3  وقد سيطرت الفصائل الجمهورية على الحكم في نهاية...   \n",
       "4  في عام 1957م بدأت قوات الفيت منه في الجنوب في ...   \n",
       "\n",
       "                                            Summary3  \\\n",
       "0   يعتبر من ابرز عباقرة الموسيقى في جميع العصور،...   \n",
       "1   ولد في بمدينة مودينا شمال ايطاليا لعائلة خباز...   \n",
       "2  السياسة البربرية تعد هذه السياسة من بين النقط ...   \n",
       "3  حرب اليمن أو حرب شمال اليمن الأهلية هي حرب دار...   \n",
       "4  وفي عام 1959م أعلنت فيتنام الشمالية تأييدها له...   \n",
       "\n",
       "                                            Summary4  \\\n",
       "0   يعتبر من ابرز عباقرة الموسيقى في جميع العصور،...   \n",
       "1  لوتشانو بافاروتي مواليد مودينا في 12 اكتوبر 19...   \n",
       "2  ومع ذلك فقد بقيت هذه الكتابات طيلة القرن التاس...   \n",
       "3  فكانت الدول العربية مستقطبة بين المعسكرين الشر...   \n",
       "4  حرب فيتنام أو الحرب الهندوصينية الثانية كانت ن...   \n",
       "\n",
       "                                            Summary5  \n",
       "0   يعتبر من ابرز عباقرة الموسيقى في جميع العصور،...  \n",
       "1  لوتشانو بافاروتي مواليد مودينا في 12 اكتوبر 19...  \n",
       "2  فجمع حوله ثلة من المفكرين ذوي هذا الاتجاه وخاص...  \n",
       "3  حرب اليمن أو حرب شمال اليمن الأهلية هي حرب دار...  \n",
       "4  حرب فيتنام أو الحرب الهندوصينية الثانية كانت ن...  "
      ]
     },
     "execution_count": 7,
     "metadata": {},
     "output_type": "execute_result"
    }
   ],
   "source": [
    "ds.head()"
   ]
  },
  {
   "cell_type": "code",
   "execution_count": 8,
   "metadata": {},
   "outputs": [
    {
     "ename": "TypeError",
     "evalue": "build_golden_summary() missing 1 required positional argument: 'max_len'",
     "output_type": "error",
     "traceback": [
      "\u001b[1;31m---------------------------------------------------------------------------\u001b[0m",
      "\u001b[1;31mTypeError\u001b[0m                                 Traceback (most recent call last)",
      "\u001b[1;32m<ipython-input-8-52949278b3f5>\u001b[0m in \u001b[0;36m<module>\u001b[1;34m()\u001b[0m\n\u001b[1;32m----> 1\u001b[1;33m \u001b[0mpr\u001b[0m\u001b[1;33m.\u001b[0m\u001b[0mbuild_golden_summary\u001b[0m\u001b[1;33m(\u001b[0m\u001b[0mds\u001b[0m\u001b[1;33m)\u001b[0m\u001b[1;33m\u001b[0m\u001b[0m\n\u001b[0m",
      "\u001b[1;31mTypeError\u001b[0m: build_golden_summary() missing 1 required positional argument: 'max_len'"
     ]
    }
   ],
   "source": [
    "pr.build_golden_summary(ds)"
   ]
  },
  {
   "cell_type": "code",
   "execution_count": null,
   "metadata": {},
   "outputs": [],
   "source": [
    "ds.head()"
   ]
  },
  {
   "cell_type": "code",
   "execution_count": 14,
   "metadata": {},
   "outputs": [],
   "source": [
    "def get_summary(input_text):\n",
    "    pr = preprocess.Preprocess()\n",
    "    original_text = input_text\n",
    "    preprocessed_text = pr.get_clean_article(input_text)\n",
    "    sentences = pr.get_article_sentences(preprocessed_text)\n",
    "    original_sentences = pr.get_article_sentences(input_text)\n",
    "    paragraphs = pr.get_cleaned_article_paragraphes(preprocessed_text)\n",
    "    para_sent_list = pr.get_para_sentences(paragraphs)\n",
    "    tokenized_word_sentences = pr.get_tokenized_word_sentences(sentences)\n",
    "\n",
    "    doc = document.Doc(\n",
    "    original_text = original_text ,  original_sentences = original_sentences ,\n",
    "    preprocessed_text = preprocessed_text.replace('ppp',\"\"),\n",
    "    sentences = sentences,\n",
    "    paragraphs = paragraphs ,para_sent_list = para_sent_list ,tokenized_word_sentences = tokenized_word_sentences)\n",
    "\n",
    "    summary = doc.summarize(5)\n",
    "    return summary\n",
    "\n",
    "        "
   ]
  },
  {
   "cell_type": "code",
   "execution_count": 15,
   "metadata": {},
   "outputs": [],
   "source": [
    "ds['score_base_summary'] = ds['Orignal'].apply(lambda x : get_summary(x))"
   ]
  },
  {
   "cell_type": "code",
   "execution_count": 16,
   "metadata": {},
   "outputs": [
    {
     "data": {
      "text/plain": [
       "0    ﻿لودفيج فان بيتهوفن مؤلف موسيقي ألماني ولد عام...\n",
       "1    ﻿لوتشانو بافاروتي مواليد مودينا في 12 أكتوبر 1...\n",
       "2    ﻿السياسة البربرية تعد هذه السياسة من بين النقط...\n",
       "3    ﻿حرب اليمن أو حرب شمال اليمن الأهلية هي حرب دا...\n",
       "4    ﻿حرب فيتنام أو الحرب الهندوصينية الثانية كانت ...\n",
       "Name: score_base_summary, dtype: object"
      ]
     },
     "execution_count": 16,
     "metadata": {},
     "output_type": "execute_result"
    }
   ],
   "source": [
    "ds['score_base_summary'].head()"
   ]
  },
  {
   "cell_type": "code",
   "execution_count": 31,
   "metadata": {},
   "outputs": [
    {
     "data": {
      "text/plain": [
       "0.3692307662201184"
      ]
     },
     "execution_count": 31,
     "metadata": {},
     "output_type": "execute_result"
    }
   ],
   "source": [
    "from rouge import Rouge \n",
    "rouge = Rouge()\n",
    "scores = rouge.get_scores(ds['Orignal'][0],ds['score_base_summary'][0])[0]['rouge-1']['f']\n",
    "scores"
   ]
  },
  {
   "cell_type": "code",
   "execution_count": 32,
   "metadata": {},
   "outputs": [],
   "source": [
    "def f(x1,x2) :\n",
    "    rouge = Rouge()\n",
    "    return rouge.get_scores(x1,x2)[0]['rouge-1']['f']"
   ]
  },
  {
   "cell_type": "code",
   "execution_count": 33,
   "metadata": {},
   "outputs": [],
   "source": [
    "#df['Rouge_1'] = df[Orignal].apply(lambda x : rouge.get_scores(self.original,self.summary)['rouge-1']['f'])\n",
    "ds['Rouge_1'] = ds[['Orignal','score_base_summary']].apply(lambda x: f(*x), axis=1)"
   ]
  },
  {
   "cell_type": "code",
   "execution_count": 35,
   "metadata": {},
   "outputs": [
    {
     "data": {
      "text/plain": [
       "0    0.369231\n",
       "1    0.858790\n",
       "2    0.492537\n",
       "3    0.769953\n",
       "4    0.670157\n",
       "Name: Rouge_1, dtype: float64"
      ]
     },
     "execution_count": 35,
     "metadata": {},
     "output_type": "execute_result"
    }
   ],
   "source": [
    "ds['Rouge_1'].head()"
   ]
  },
  {
   "cell_type": "code",
   "execution_count": 34,
   "metadata": {},
   "outputs": [
    {
     "data": {
      "text/plain": [
       "0.6944173636704415"
      ]
     },
     "execution_count": 34,
     "metadata": {},
     "output_type": "execute_result"
    }
   ],
   "source": [
    "np.mean(ds['Rouge_1'])"
   ]
  },
  {
   "cell_type": "code",
   "execution_count": null,
   "metadata": {},
   "outputs": [],
   "source": []
  }
 ],
 "metadata": {
  "kernelspec": {
   "display_name": "Python 3",
   "language": "python",
   "name": "python3"
  },
  "language_info": {
   "codemirror_mode": {
    "name": "ipython",
    "version": 3
   },
   "file_extension": ".py",
   "mimetype": "text/x-python",
   "name": "python",
   "nbconvert_exporter": "python",
   "pygments_lexer": "ipython3",
   "version": "3.5.5"
  }
 },
 "nbformat": 4,
 "nbformat_minor": 2
}
